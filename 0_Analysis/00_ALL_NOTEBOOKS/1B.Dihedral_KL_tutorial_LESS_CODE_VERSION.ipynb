{
 "cells": [
  {
   "cell_type": "markdown",
   "metadata": {},
   "source": [
    "*To run cells with code, `shift + enter`* \n",
    "\n",
    "*To restart the session, `Kernel -> Restart and clear output`*"
   ]
  },
  {
   "cell_type": "markdown",
   "metadata": {},
   "source": [
    "# Dihedral Kullback-Leibler (KL) divergence\n",
    "----\n",
    "\n",
    "----\n",
    "## Introduction \n",
    "\n",
    "-------"
   ]
  },
  {
   "cell_type": "markdown",
   "metadata": {},
   "source": [
    "\n",
    "\n",
    "### <span style=\"color:DarkRed\"> Some details on trajectory/topology input\n",
    "    \n",
    "\n",
    "\n",
    "-------\n",
    "\n",
    "#### Simulation input\n",
    "\n",
    "To run these scripts, you should have two (or more) different trajectories for the same protein, with different effectors bound. In these examples, the simulations have different allosteric ligands. \n",
    "\n",
    "\n",
    "\n",
    "#### Topology\n",
    "\n",
    "It is useful that the data is first processed to ensure the same residues are present. This script will calculate psi/phi/chi in the order which they are in the topology, and assign using the index of the C$\\alpha$ atom for that torsion.  Therefore having topology with the same atom indices ensures that for each system the output is the same. \n",
    "\n",
    "\n",
    "#### Trajectory \n",
    "\n",
    "All of these scripts will take input trajectories which are accepted by **[mdtraj](http://mdtraj.org/1.9.0/load_functions.html \"mdtraj.Trajectory\")**.\n",
    "\n",
    "There are some basic scripts in the folder **`Scripts/Traj_processing_scripts`** for processing trajectory and topology using parmed or cpptraj. Remove any protein residues not common to both trajectory and also you can remove water as it will not be needed. \n",
    "\n",
    "As long as you have the same sequence of residues for the protein in each case, there is no need to remove any substrate,  ligand or ions, but it is useful to do also this now if you are also going to carry out a PCA. \n",
    "\n",
    "\n",
    "\n",
    "####  Kullback-Leibler divergence (KL)\n",
    "\n",
    "Usually for each KL calculation, two different simulations are compared. These could be a simulation with no ligand bound and one with a ligand. Or two simulations with different ligands (i.e. activating or inhibiting ligands). \n",
    "\n",
    "Also in the scripts folder is a script to create two smaller trajectory from one larger one. It is useful to calculate the KL divergence of one system relative to itself, using two different (or one separated) trajectories, in order to take account of noise. \n",
    "\n",
    "----\n"
   ]
  },
  {
   "cell_type": "markdown",
   "metadata": {},
   "source": [
    "### <span style=\"color:DarkRed\"> Kullback-Leibler (KL) Divergence \n",
    "\n",
    "---\n",
    "**KL divergence is defined as:**\n",
    "\n",
    "\\begin{equation}\n",
    "D_{KL} (P\\|Q)=\\sum _{i}P(i)\\,\\log {\\frac {P(i)}{Q(i)}}\n",
    "\\end{equation}\n",
    "\n",
    "In this case, distribution P will be the data obtained from one simulation *(i.e. protein with activator bound)* and distribution Q will be that obtained from another simulation *(i.e. protein with inhibitor bound)*. This is computed over a range of *i* bins."
   ]
  },
  {
   "cell_type": "markdown",
   "metadata": {},
   "source": [
    "**P** and **Q** refer to distributions of a particular descriptor, for example a particular Psi angle, and we can collect the value of that Psi angle as a distribution over the trajectory. \n",
    "\n",
    "So for the activator bound simulation we could obtain the distibution in green for **P**, and for the inhibitor bound simulation we obtain the distribution in blue for **Q**. \n",
    "\n",
    "* In the first case, the distributions are similar, and so the mean value will be similar, and the KL divergence will be small. \n",
    "\n",
    "\n",
    "* In the second case, the mean value is similar, but the KL divergence will be higher since the distributions are not the same across all bins. \n",
    "\n",
    "\n",
    "* In the third case, the mean value is different and the KL divergence is higher. \n"
   ]
  },
  {
   "cell_type": "markdown",
   "metadata": {},
   "source": [
    "\n",
    "<img src=\"z_images/distributions.png\">\n",
    "\n",
    "-----------\n"
   ]
  },
  {
   "cell_type": "markdown",
   "metadata": {},
   "source": [
    "# <span style=\"color:DarkRed\"> Overall workflow\n",
    "\n",
    "-----------\n",
    "\n",
    "To summarise the overall workflow:\n",
    "\n",
    "1. Run simulations. \n",
    "\n",
    "2. Calculate distributions of torsions. \n",
    "\n",
    "3. Compute KL between the different systems. \n",
    "\n",
    "4. Input KL as a B-factor into the pdb to visualise."
   ]
  },
  {
   "cell_type": "markdown",
   "metadata": {},
   "source": [
    "\n",
    "<img src=\"z_images/KL_calculation.png\" width=\"800\" >"
   ]
  },
  {
   "cell_type": "markdown",
   "metadata": {},
   "source": [
    "---\n",
    "##### Some notes on the workflow: \n",
    "\n",
    "* Step 1 of the workflow: Run simulations and process the trajectories to ensure you have identical topology / order of residues.\n",
    "\n",
    "\n",
    "* Step 2 of the workflow: The first script calculates distributions of Psi, Phi, Chi1 and Chi2 from a trajectory. These distributions are output as a text file for each torsion, into folders PSI, PHI, CHI1, CHI2 in the directory OUTPUT. In step 2 we also have to assign each torsion to the correct residue.\n",
    "\n",
    "\n",
    "* Step 3 of the workflow: KL values are then calculated with another script which just loops through the files output by the first script, and these KL values can then be input onto the structure to highlight the high KL regions, for Psi, Phi, Chi1 and Chi2 separately; or grouped as either backbone or sidechain. \n",
    "\n",
    "\n",
    "* Step 4 of the workflow: A pymol script will load the output from the KL calculation to be visualised on the structure.\n",
    "\n"
   ]
  },
  {
   "cell_type": "markdown",
   "metadata": {},
   "source": [
    "-------\n",
    "\n",
    "# <span style=\"color:teal\"> Step 1 of the workflow: </span>\n",
    "\n",
    "--------"
   ]
  },
  {
   "cell_type": "markdown",
   "metadata": {},
   "source": [
    "### 1.1 Folder and filenames\n",
    "\n",
    "-------\n",
    "\n",
    "#### *<span style=\"color:red\">The folders for trajectories are already set up for the tutorial: so there is no need to do anything for section 1.1. For info only.</span> *\n",
    "\n",
    "\n",
    "To run on other systems set up the following folder structure to complete the analysis.\n",
    "\n",
    "**`mkdir 0_Analysis`**  \n",
    "\n",
    "Then set up a folder for trajectory data.\n",
    "\n",
    "**`cd 0_Analysis\n",
    "mkdir 0_TRAJECTORIES`**\n",
    "\n",
    "Within 0_TRAJECTORIES make a folder for each system, and inside these folders either put the trajectory and topology files, or soft links to them. Also include a pdb file with the same topology as the trajectory (usually just take the first frame of the simulation).\n",
    "\n",
    "**`cd 0_TRAJECTORIES\n",
    "mkdir 0_system_A\n",
    "mkdir 1_system_B`**\n",
    "\n",
    "**`cd 0_system_A\n",
    "ln -s /home/somefilelocation/traj0001.dcd\n",
    "ln -s /home/somefilelocation/topology.parm7\n",
    "ln -s /home/somefilelocation/first_frame.pdb`**\n",
    "\n",
    "Within each you can have one or more trajectories. For example, if you have a long trajectory which was run in segments, or if you want to use many different runs of the same system in order to use more snapshots, just input these separately in \"filename_list\":\n",
    "\n",
    "*e.g.* \n",
    "*filename_list_system_A = [\"traj1.dcd\" , \"traj2.dcd\" , \"traj3.dcd\" , \"traj4.dcd\" , \"traj5.dcd\"]*\n",
    "\n",
    "<span style=\"color:red\"> *(We plan to change this in order just to automatically pull all files with a particular extention (e.g. .dcd) into these lists: but for now they have to be input)*</span>\n",
    "\n",
    "\n",
    "### 1.2 Simulations for this tutorial\n",
    "------\n",
    "\n",
    "\n",
    "For this example, two systems are used: \n",
    "\n",
    "**0_system_A**  (*PDK1 with allosteric inhibitor 1F8 bound. PDB ID [3ORX](https://www.rcsb.org/structure/3ORX)*)\n",
    "\n",
    "**1_system_B**  (*PDK1 with allosteric activator 2A2 bound. PDB ID [3ORZ](https://www.rcsb.org/structure/3orz).*)\n",
    "\n",
    "And within each of these folders are two trajectory files (in .dcd format) along with the topology file (in .parm7 format). \n",
    "\n",
    "traj0001.dcd and traj0002.dcd are both 500 ns sections of the same simulation which have been post processed to remove everything other than the protein (NME and ACE caps removed, water, ligand, ATP, Mg2+ ions and substrate peptide are present in the original simulation but removed for analysis). As long as you remove any different residues, there isn't really a need to remove some of these, but easier to have less unneccessary data to process. \n",
    "\n",
    "Ideally have a tracectory with many frames (save a snapshot around every 10 ps or so). \n",
    "\n",
    "The trajectories included here initially have 100k snapshots for 500 ns simulation, but have been reduced to 2000 snapshots per 500 ns for the purpose of the tutorial. "
   ]
  },
  {
   "cell_type": "markdown",
   "metadata": {},
   "source": [
    "-----\n",
    "\n",
    "Check we are in the correct folder `0_Analysis`:\n",
    "\n",
    "Run the below cell with `shift + enter` : "
   ]
  },
  {
   "cell_type": "code",
   "execution_count": 1,
   "metadata": {},
   "outputs": [
    {
     "data": {
      "text/plain": [
       "u'/home/t702348/lisa/X_PDK1_tutorial/0_Analysis'"
      ]
     },
     "execution_count": 1,
     "metadata": {},
     "output_type": "execute_result"
    }
   ],
   "source": [
    "pwd"
   ]
  },
  {
   "cell_type": "markdown",
   "metadata": {},
   "source": [
    "Check that filenames within each folder are correctly set up.\n",
    "\n",
    "We will need the files `topology.parm7` , `traj0001.dcd` and `traj0002.dcd` for this tutorial. \n",
    "\n",
    "`first_frame.pdb` will be used to visualise results."
   ]
  },
  {
   "cell_type": "code",
   "execution_count": 2,
   "metadata": {},
   "outputs": [
    {
     "name": "stdout",
     "output_type": "stream",
     "text": [
      "\u001b[0m\u001b[01;34mcap_traj\u001b[0m/        \u001b[00mlongtraj_aligned_PCA.dcd\u001b[0m  \u001b[00mtopology.parm7\u001b[0m\r\n",
      "\u001b[00mcpptraj.log\u001b[0m      \u001b[00mparmed.log\u001b[0m                \u001b[00mtraj0001.dcd\u001b[0m\r\n",
      "\u001b[00mfirst_frame.pdb\u001b[0m  \u001b[00mshort_traj_aligned.dcd\u001b[0m    \u001b[00mtraj0002.dcd\u001b[0m\r\n"
     ]
    }
   ],
   "source": [
    "ls 0_TRAJECTORIES/0_system_A/"
   ]
  },
  {
   "cell_type": "code",
   "execution_count": 3,
   "metadata": {},
   "outputs": [
    {
     "name": "stdout",
     "output_type": "stream",
     "text": [
      "\u001b[0m\u001b[01;34mcap_traj\u001b[0m/        \u001b[00mlongtraj_aligned_PCA.dcd\u001b[0m  \u001b[00mtopology.parm7\u001b[0m\r\n",
      "\u001b[00mcpptraj.log\u001b[0m      \u001b[00mparmed.log\u001b[0m                \u001b[00mtraj0001.dcd\u001b[0m\r\n",
      "\u001b[00mfirst_frame.pdb\u001b[0m  \u001b[00mshort_traj_aligned.dcd\u001b[0m    \u001b[00mtraj0002.dcd\u001b[0m\r\n"
     ]
    }
   ],
   "source": [
    "ls 0_TRAJECTORIES/1_system_B/"
   ]
  },
  {
   "cell_type": "markdown",
   "metadata": {},
   "source": [
    "\n",
    "---\n",
    "\n",
    "# <span style=\"color:teal\"> Step 2 of the workflow: </span>\n",
    "\n",
    "----\n"
   ]
  },
  {
   "cell_type": "markdown",
   "metadata": {},
   "source": [
    "### Import required packages\n",
    "\n",
    "The following packages are required. \n",
    "\n",
    "You can run the below cell with `shift + enter` : "
   ]
  },
  {
   "cell_type": "code",
   "execution_count": 4,
   "metadata": {},
   "outputs": [
    {
     "name": "stdout",
     "output_type": "stream",
     "text": [
      "Populating the interactive namespace from numpy and matplotlib\n"
     ]
    }
   ],
   "source": [
    "import scipy as sp\n",
    "import numpy as np\n",
    "import mdtraj as md\n",
    "import sys\n",
    "import os\n",
    "import math\n",
    "\n",
    "# And need this to show plots etc in jupyter notebook\n",
    "get_ipython().magic(u'pylab inline')"
   ]
  },
  {
   "cell_type": "markdown",
   "metadata": {},
   "source": [
    "----\n",
    "### 2.0.  Calculate dihedral distributions"
   ]
  },
  {
   "cell_type": "markdown",
   "metadata": {},
   "source": [
    "There are 2 arguments that have to be passed with the script. \n",
    "\n",
    "- **Input system**\n",
    "\n",
    "Select the system to run using `input_system`.\n",
    "\n",
    "`input_system` is a list at the start of the script `1_dihedral_for_tutorial.py`. \n",
    "\n",
    "It just contains the names of the folders for the different systems:\n",
    "\n",
    "`system_list = [\"0_system_A\",\"1_system_B\"]`\n",
    "\n",
    "Select using the index of the list (0 for the first entry in the list, 1 for the second).\n",
    "\n",
    "- **Number of bins **\n",
    "\n",
    "The number of bins will depend on the number of snapshots used. \n",
    "\n",
    "For a simulation of 1 $\\mu$s, usually we save around 200k snapshots. Around 300 bins is appropriate for this number of datapoints. \n",
    "\n",
    "In this example, we have 4000 snapshots and so 60 bins are used.\n",
    "\n",
    "#### Run the script:\n",
    "\n",
    "Run as `$ python 1_dihedral_for_tutorial.py *input_system* *number_of_bins*`\n",
    "\n",
    "So for the first system: `$ python 1_dihedral_for_tutorial.py 0 60`\n",
    "\n",
    "To run from the notebook, execute the cell below with `shift + enter`:"
   ]
  },
  {
   "cell_type": "code",
   "execution_count": 5,
   "metadata": {},
   "outputs": [
    {
     "name": "stdout",
     "output_type": "stream",
     "text": [
      "2.1: input system is: 0_system_A\n",
      "MD data located in directory: 0_TRAJECTORIES\n",
      "Topology filename is: topology.parm7\n",
      "Trajectories are ['traj0001.dcd', 'traj0002.dcd']\n",
      "\n",
      "2.2: list of all input file locations.\n",
      "[['0_TRAJECTORIES/0_system_A/traj0001.dcd', '0_TRAJECTORIES/0_system_A/traj0002.dcd'], ['0_TRAJECTORIES/1_system_B/traj0001.dcd', '0_TRAJECTORIES/1_system_B/traj0002.dcd']]\n",
      "\n",
      "2.3: Creating output folders for all systems\n",
      "Folder created for 1_DIHEDRALS/0_system_A/OUTPUT/PSI\n",
      "Folder created for 1_DIHEDRALS/1_system_B/OUTPUT/PSI\n",
      "Folder created for 1_DIHEDRALS/0_system_A/OUTPUT/PHI\n",
      "Folder created for 1_DIHEDRALS/1_system_B/OUTPUT/PHI\n",
      "Folder created for 1_DIHEDRALS/0_system_A/OUTPUT/CHI1\n",
      "Folder created for 1_DIHEDRALS/1_system_B/OUTPUT/CHI1\n",
      "Folder created for 1_DIHEDRALS/0_system_A/OUTPUT/CHI2\n",
      "Folder created for 1_DIHEDRALS/1_system_B/OUTPUT/CHI2\n",
      "\n",
      "2.4: Loading trajectory and calculating for system: \n",
      "\n",
      "0_system_A\n",
      "\n",
      "One trajectory file traj0001.dcd is: \n",
      "<mdtraj.Trajectory with 2000 frames, 4676 atoms, 285 residues, and unitcells>\n",
      "Combined traj0001.dcd and traj0002.dcd is: \n",
      "<mdtraj.Trajectory with 4000 frames, 4676 atoms, 285 residues, and unitcells>\n",
      "\n",
      "2.5: Computing Dihedrals\n",
      "computing psi\n",
      "computing phi\n",
      "computing chi1\n",
      "computing chi2\n",
      "The system has the following numbers of psi, phi, chi1 and chi2: \n",
      "[['Number of psi' '284']\n",
      " ['Number of phi' '284']\n",
      " ['Number of chi1' '252']\n",
      " ['Number of chi2' '204']]\n",
      "Saving number of angles to file: 1_DIHEDRALS/number_angles.dat\n",
      "\n",
      "2.6: Output file with CA index and torsions: \n",
      "File saved with CA indices and torision numbers to: 1_DIHEDRALS/0_system_A/DIHEDRALS_CA_angles_indexes.dat\n",
      "\n",
      "2.7: Calculating dihedral distributions: \n",
      "Computing psi distributions\n",
      "Psi distributions saved to: '1_DIHEDRALS/0_system_A/OUTPUT/PSI'\n",
      "Computing phi distributions\n",
      "Phi distributions saved to: '1_DIHEDRALS/0_system_A/OUTPUT/PHI'\n",
      "Computing chi1 distributions\n",
      "Chi1 distributions saved to: '1_DIHEDRALS/0_system_A/OUTPUT/CHI1'\n",
      "Computing chi2 distributions\n",
      "Chi2 distributions saved to: '1_DIHEDRALS/0_system_A/OUTPUT/CHI2'\n"
     ]
    }
   ],
   "source": [
    "!python Scripts/1_dihedral_for_tutorial.py 0 60"
   ]
  },
  {
   "cell_type": "markdown",
   "metadata": {},
   "source": [
    "-----\n",
    "\n",
    "-----\n",
    "\n",
    "### <span style='color:DarkRed'>Details on what is calculated with the script: \n",
    "\n",
    "**Sections 2.1 to 2.7**: Details on the steps completed with the above script, and what you should expect to see printed when the cell above has run. \n",
    "\n",
    "### <span style='color:DarkRed'>To move onto the next step: \n",
    "\n",
    "**Section 2.8**: After running the script for 0_system_A, the next step will be to run for the second system.\n",
    "\n",
    "**Step 3 of the workflow**: Once both systems have been run, we will do the KL-divergence calculation. \n",
    "\n",
    "-----\n",
    "\n",
    "-----\n"
   ]
  },
  {
   "cell_type": "markdown",
   "metadata": {},
   "source": [
    "### 2.1. Selecting input and setting trajectory/topology filenames\n",
    "\n",
    "Set up `system_list` with folder names of different systems. This can be 2 or more different systems:\n",
    "\n",
    "- e.g. `system_list = [\"0_system_A\",\"1_system_B\"]`\n",
    "\n",
    "Input one or more trajectory names into `filname_list`: \n",
    "\n",
    "- e.g. `filename_list = [\"traj0001.dcd\",\"traj0002.dcd\"]`\n",
    "\n",
    "Input topology filename: \n",
    "\n",
    "- e.g. `topology_filename = \"topology.parm7\"`\n",
    "\n",
    "Input location of MD data: \n",
    "\n",
    "- e.g. `md_data = [\"0_TRAJECTORIES\"]`"
   ]
  },
  {
   "cell_type": "markdown",
   "metadata": {},
   "source": [
    "### 2.2. Make lists of directories to trajectory data \n",
    "---\n",
    "\n",
    "Based on the info given above, the script will create lists of file locations for trajectories. "
   ]
  },
  {
   "cell_type": "markdown",
   "metadata": {},
   "source": [
    "The script shoud print a table with the locations of all trajectory files. \n",
    "It should also print which system you are currently calculating. "
   ]
  },
  {
   "cell_type": "markdown",
   "metadata": {},
   "source": [
    "\n",
    "\n",
    "### 2.3. Create folders for the output files\n",
    "---\n",
    "\n",
    "Folders for the system being run should be created for the output distributions to be stored: \n",
    "\n",
    "`1_DIHEDRALS/0_system_A/OUTPUT/PSI`\n",
    "\n",
    "`1_DIHEDRALS/0_system_A/OUTPUT/PHI`\n",
    "\n",
    "`1_DIHEDRALS/0_system_A/OUTPUT/CHI1`\n",
    "\n",
    "`1_DIHEDRALS/0_system_A/OUTPUT/CHI2`"
   ]
  },
  {
   "cell_type": "markdown",
   "metadata": {},
   "source": [
    "### 2.4. Load the trajectory\n",
    "---\n"
   ]
  },
  {
   "cell_type": "markdown",
   "metadata": {},
   "source": [
    "We are loading two parts to the trajectory: `traj0001.dcd` and `traj0002.dcd`. The script should print the frames being loaded. "
   ]
  },
  {
   "cell_type": "markdown",
   "metadata": {},
   "source": [
    "#### *Here you can save the first frame as a pdb*\n",
    "\n",
    "For the tutorial, in order to load the results in pymol, there is already a pdb for each in the 0_TRAJECTORIES folder. \n",
    "\n",
    "If you don't already have a pdb, there is a line (as below) in the script which is commented out, which would save a pdb to the folder `0_TRAJECTORIES/*selected_system*`\n",
    "\n",
    "`traj[0].save_pdb(\"%s/%s/first_frame.pdb\" % (md_data[0],system_list[input_system]))`"
   ]
  },
  {
   "cell_type": "markdown",
   "metadata": {},
   "source": [
    "### 2.5. Compute dihedrals\n",
    "---\n",
    "\n",
    "#### Torsions calculated \n",
    "\n",
    "We use **[mdtraj](http://mdtraj.org/1.9.0/api/generated/mdtraj.compute_psi.html \"mdtraj.compute_psi\")** to compute the dihedrals. We have only included Psi and Phi for the backbone, and Chi1 and Chi2 for the sidechain torsions at this stage. However **mdtraj** can compute Psi, Phi, Omega, Chi1, Chi2, Chi3 and Chi4 so this could be extended. \n",
    "\n",
    "A file will be saved which states how many psi, phi, chi1 and chi2 there are for the system.\n",
    "\n",
    "---\n",
    "md.compute_psi gives an output of this format:\n",
    "\n",
    "**psi_list[0]** gives the *atom indices* making up each psi torsion.\n",
    "\n",
    "**psi_list[1]** gives the *value of psi* for each residue, for *each snapshot*.\n",
    "\n",
    "---\n",
    "\n",
    "---\n",
    "\n",
    "---\n",
    "\n",
    "> #### <span style=\"color:Purple\">Memory issues:\n",
    "> We loaded the whole trajectory to memory with `md.load_dcd` by loading traj0001.dcd and traj0002.dcd and joining them together; however this may not always be possible if you have limited memory, or a very large trajectory. \n",
    "\n",
    "> You can also use **[md.iterload](http://mdtraj.org/1.9.0/api/generated/mdtraj.iterload.html \"mdtraj.iterload\")** instead of initally loading the entire trajectory to memory. This would be done as follows:\n",
    "\n",
    "> #### Make lists to collect torsions: \n",
    "\n",
    "> `psi_list = []`\n",
    "> `phi_list = []`\n",
    "> `chi1_list = []`\n",
    "> `chi2_list = []`\n",
    "\n",
    "> #### Use `md.iterload` to calculate torsions and append them to each list:\n",
    "\n",
    "> `for chunk in md.iterload(trajfile, chunk=100, top=top):\n",
    "\tpsi_list.append(md.compute_psi(chunk,periodic=True,opt=True))\n",
    "\tphi_list.append(md.compute_phi(chunk,periodic=True,opt=True))\n",
    "\tchi1_list.append(md.compute_chi1(chunk,periodic=True,opt=True))\n",
    "\tchi2_list.append(md.compute_chi2(chunk,periodic=True,opt=True))`    \n",
    "    \n",
    "\n",
    "> #### NB: With `iterload`, the output is slightly different to `md.load`\n",
    "\n",
    "> Further scripts will be set up to run this with iterload. \n",
    "\n",
    "---\n",
    "\n",
    "---\n",
    "\n"
   ]
  },
  {
   "cell_type": "markdown",
   "metadata": {},
   "source": [
    "\n",
    "### 2.6. Outputting a file with CA indexes for each psi, phi, chi1 and chi2\n",
    "\n",
    "---\n",
    "\n",
    "\n",
    "The rest of this script saves each torsional angle numbered Psi(0) to Psi(n), Chi1(0) to Chi1(m), etc, and not per residue: so we need to match up which atom indexes match to which Psi, Phi, Chi1 & Chi2. \n",
    "\n",
    "The script saves a file called `DIHEDRALS_CA_angles_indexes.dat` with: \n",
    "\n",
    "    \n",
    "| CA index | PSI | PHI | CHI1 | CHI2 |\n",
    "| :--- | :-: | :-: | :--: | :--: |\n",
    "| 2 |  0 | none | 0 | 0 | \n",
    "| 26 | 1 | 0 | 1 | 1 | \n",
    "| 48 | 2 | 1 | 2 | 2 | \n",
    "| 70 | 3 | 2 | 3 | 3 | \n",
    "\n",
    "\n",
    "Where the first column are the C$\\alpha$ indexes and then which Psi Phi Chi1 Chi2 should be assigned to that C$\\alpha$. Not all cases have Chi1 and Chi2 and so for those C$\\alpha$ they will show \"none\". \n",
    "\n",
    "We will run the script for each system, saving this file to the folder associated with that system in order to later check that the atom indices that we are calculating are the same for each torsion computed. \n",
    "\n",
    "After you have run Step 2 of the workflow for both systems, you can use vimdiff on the file output for each case: \n",
    "\n",
    "`$ vimdiff 1_DIHEDRALS/0_system_A/DIHEDRALS_CA_angles_indexes.dat 1_DIHEDRALS/1_system_B/DIHEDRALS_CA_angles_indexes.dat`"
   ]
  },
  {
   "cell_type": "markdown",
   "metadata": {},
   "source": [
    "### 2.7. Computing distributions of dihedrals\n",
    "---\n",
    "\n",
    "From the md.compute_psi, we have an list which is *DIHEDRAL* vs *SNAPSHOT*. We need to calculate for every dihedral a probability distribution. \n",
    "\n",
    "Also when calculating KL, **both distributions should be continuous**. That is, if P(i)=0 or Q(i)=0 then there is no solution. In order to avoid this problem, a negligibly small value is added to any zero-count bins. \n",
    "\n",
    "The script should print which torsions are being calculated and print the location which files are being saved. \n",
    "\n",
    "Files are saved for each torsion, as a histogram, and as the raw data (i.e. the value per snapshot for that torsion) as follows: \n",
    "\n",
    "\n",
    "\n",
    "`1_DIHEDRALS/0_system_A/OUTPUT/PSI/psi_hist_92.dat`\n",
    "\n",
    "`1_DIHEDRALS/0_system_A/OUTPUT/PSI/raw_data_psi_92.dat`"
   ]
  },
  {
   "cell_type": "markdown",
   "metadata": {},
   "source": [
    "#### Torsion number and atom index\n",
    "\n",
    "In order to keep track of which torsional distribution relates to which atoms, a file is output with the torsion number and the atom indices for that torsion.\n",
    "\n",
    "`1_DIHEDRALS/0_system_A/OUTPUT/PSI/1_psi_indices_list.dat`"
   ]
  },
  {
   "cell_type": "markdown",
   "metadata": {},
   "source": [
    "### 2.8. Compute the same for the second system.\n",
    "----------"
   ]
  },
  {
   "cell_type": "markdown",
   "metadata": {},
   "source": [
    "We can just change the number passed with the script from *0* to *1*, to select the second system, as below: "
   ]
  },
  {
   "cell_type": "code",
   "execution_count": 6,
   "metadata": {},
   "outputs": [
    {
     "name": "stdout",
     "output_type": "stream",
     "text": [
      "2.1: input system is: 1_system_B\n",
      "MD data located in directory: 0_TRAJECTORIES\n",
      "Topology filename is: topology.parm7\n",
      "Trajectories are ['traj0001.dcd', 'traj0002.dcd']\n",
      "\n",
      "2.2: list of all input file locations.\n",
      "[['0_TRAJECTORIES/0_system_A/traj0001.dcd', '0_TRAJECTORIES/0_system_A/traj0002.dcd'], ['0_TRAJECTORIES/1_system_B/traj0001.dcd', '0_TRAJECTORIES/1_system_B/traj0002.dcd']]\n",
      "\n",
      "2.3: Creating output folders for all systems\n",
      "\n",
      "2.4: Loading trajectory and calculating for system: \n",
      "\n",
      "1_system_B\n",
      "\n",
      "One trajectory file traj0001.dcd is: \n",
      "<mdtraj.Trajectory with 2000 frames, 4676 atoms, 285 residues, and unitcells>\n",
      "Combined traj0001.dcd and traj0002.dcd is: \n",
      "<mdtraj.Trajectory with 4000 frames, 4676 atoms, 285 residues, and unitcells>\n",
      "\n",
      "2.5: Computing Dihedrals\n",
      "computing psi\n",
      "computing phi\n",
      "computing chi1\n",
      "computing chi2\n",
      "The system has the following numbers of psi, phi, chi1 and chi2: \n",
      "[['Number of psi' '284']\n",
      " ['Number of phi' '284']\n",
      " ['Number of chi1' '252']\n",
      " ['Number of chi2' '204']]\n",
      "Saving number of angles to file: 1_DIHEDRALS/number_angles.dat\n",
      "\n",
      "2.6: Output file with CA index and torsions: \n",
      "File saved with CA indices and torision numbers to: 1_DIHEDRALS/1_system_B/DIHEDRALS_CA_angles_indexes.dat\n",
      "\n",
      "2.7: Calculating dihedral distributions: \n",
      "Computing psi distributions\n",
      "Psi distributions saved to: '1_DIHEDRALS/1_system_B/OUTPUT/PSI'\n",
      "Computing phi distributions\n",
      "Phi distributions saved to: '1_DIHEDRALS/1_system_B/OUTPUT/PHI'\n",
      "Computing chi1 distributions\n",
      "Chi1 distributions saved to: '1_DIHEDRALS/1_system_B/OUTPUT/CHI1'\n",
      "Computing chi2 distributions\n",
      "Chi2 distributions saved to: '1_DIHEDRALS/1_system_B/OUTPUT/CHI2'\n"
     ]
    }
   ],
   "source": [
    "!python Scripts/1_dihedral_for_tutorial.py 1 60"
   ]
  },
  {
   "cell_type": "markdown",
   "metadata": {},
   "source": [
    "\n",
    "\n",
    "----------\n",
    "\n",
    "### 2.9. If you have now run both system A and B: move on to Step 3 of the workflow below \n",
    "\n",
    "-----------\n",
    "\n",
    "-----------\n",
    "\n",
    "-----------\n",
    "\n",
    "> #### <span style=\"color:Purple\">To run as a script for several systems: </span>\n",
    "> To run this for several systems, use the bash script `Scripts/1_dihedral_many_systems.sh` with `Scripts/1_dihedral.py`. \n",
    "\n",
    "> First alter `1_dihedral.py`: system_list, filename_list, topology_filename and md_data.\n",
    "\n",
    "> Then run `1_dihedral_many_systems.sh` with 2 arguments: \n",
    "   \n",
    ">    * The number of systems given in `system_list`.\n",
    ">    * The number of bins to histogram the data. \n",
    "\n",
    "\n",
    "-----------\n"
   ]
  },
  {
   "cell_type": "markdown",
   "metadata": {},
   "source": [
    "----\n",
    "\n",
    "# <span style=\"color:teal\"> Step 3 of the workflow: </span>\n",
    "\n",
    "---"
   ]
  },
  {
   "cell_type": "markdown",
   "metadata": {},
   "source": [
    "### Calculating KL between two systems "
   ]
  },
  {
   "cell_type": "markdown",
   "metadata": {},
   "source": [
    "A bash script will now loop thorugh all of the output files for the two systems which we created with 1_Dihedral.py and calculate the KL value. \n",
    "\n",
    "We run this script with several arguments. In the next cell, we print `number_angles_array` which gives how many psi, phi, chi1 and chi2 there are in the system. There is a file saved in the folder 1_DIHEDRALS/**number_angles.dat** with this information.\n",
    "\n",
    "--- \n",
    "\n",
    "----\n",
    "\n",
    "> #### <span style=\"color:Purple\">To run the script in terminal instead of in the notebook: </span>\n",
    "\n",
    "> ` $ bash 2_run_all_KL.sh`  `systemA_folder_name`  `systemB_folder_name`  `number_psi_angles`  `number_phi_angles`  `number_chi1_angles`  `number_chi2_angles`\n",
    "\n",
    "> e.g. `bash ../Scripts/2_run_all_KL.sh 0_system_A 1_system_B 284 284 252 204` \n",
    "\n",
    "<br><br>"
   ]
  },
  {
   "cell_type": "markdown",
   "metadata": {},
   "source": [
    "### 3.1. Print the number of angles for each torsion\n",
    "---"
   ]
  },
  {
   "cell_type": "code",
   "execution_count": 7,
   "metadata": {},
   "outputs": [
    {
     "name": "stdout",
     "output_type": "stream",
     "text": [
      "Number of psi 284\r\n",
      "Number of phi 284\r\n",
      "Number of chi1 252\r\n",
      "Number of chi2 204\r\n"
     ]
    }
   ],
   "source": [
    "cat 1_DIHEDRALS/number_angles.dat"
   ]
  },
  {
   "cell_type": "markdown",
   "metadata": {},
   "source": [
    "\n",
    "### 3.2. Run the bash script to calculate the KL between the two systems \n",
    "---\n",
    "First, change directory to 1_DIHEDRALS as all output will be processed and saved in this folder."
   ]
  },
  {
   "cell_type": "markdown",
   "metadata": {},
   "source": [
    "Move to the folder `1_DIHEDRALS` :"
   ]
  },
  {
   "cell_type": "code",
   "execution_count": 8,
   "metadata": {},
   "outputs": [
    {
     "name": "stdout",
     "output_type": "stream",
     "text": [
      "/home/t702348/lisa/X_PDK1_tutorial/0_Analysis/1_DIHEDRALS\n"
     ]
    }
   ],
   "source": [
    "cd 1_DIHEDRALS"
   ]
  },
  {
   "cell_type": "code",
   "execution_count": 9,
   "metadata": {},
   "outputs": [
    {
     "name": "stdout",
     "output_type": "stream",
     "text": [
      "psi KL calculating ...\n",
      "phi KL calculating ...\n",
      "chi1 KL calculating ...\n",
      "chi2 KL calculating ...\n",
      "Time in seconds to run KL script:  \n",
      "512\n"
     ]
    }
   ],
   "source": [
    "# This may take a few minutes!\n",
    "!bash ../Scripts/2_run_all_KL.sh 0_system_A 1_system_B 284 284 252 204"
   ]
  },
  {
   "cell_type": "markdown",
   "metadata": {},
   "source": [
    "### 3.3.  Collect KL values and assign them to the correct residue\n",
    "---\n",
    "\n",
    "For the first script, we saved a file with the C$\\alpha$ index and the torsion number, to later assign each KL value to the correct residue. \n",
    "\n",
    "To do this, the script `Scripts/5_combining_psi_phi_chi.py` is used, and can be run from the cells below. This should be run from the folder `1_DIHEDRALS`. \n",
    "\n",
    "This will output a file with the number of the residue in the first column, the number of the C$\\alpha$ atom in the second column, and the remaining 4 columns are the KL value for the Psi, Phi, Chi1 and Chi2 torsions respectively. \n",
    "\n",
    "From 2.6, we should already have the file\n",
    "`DIHEDRALS_CA_angles_indexes.dat`, which looks like this:\n",
    "\n",
    "| CA index | PSI | PHI | CHI1 | CHI2 |\n",
    "| :--- | :-: | :-: | :--: | :--: |\n",
    "| 2 |  0 | none | 0 | 0 | \n",
    "| 26 | 1 | 0 | 1 | 1 | \n",
    "| 48 | 2 | 1 | 2 | 2 | \n",
    "| 70 | 3 | 2 | 3 | 3 | \n",
    "\n",
    "<br><br>\n",
    "\n",
    "And then running `Scripts/5_combining_psi_phi_chi.py` will output \n",
    "`KL_residue_caindex_psi_phi_chi_chi.dat`, which looks like this: \n",
    "\n",
    "|Residue number | CA index | PSI KL | PHI KL | CHI1 KL | CHI2 KL |\n",
    "| :--- | :-: | :-: | :--: | :--: |:--: |\n",
    "| 1 | 2 | 0.013591 | 0.000000 | 0.014678 | 0.036920 | \n",
    "| 2 | 26 | 0.011217 | 0.030264 | 0.022233 | 0.012993 | \n",
    "| 3 | 48 | 0.077490 | 0.010198 | 0.067854 | 0.056849 | \n",
    "| 4 | 70 | 0.023213 | 0.007356 | 0.198231 | 0.125124 | \n",
    "\n",
    "\n",
    "Where KL values for each torsion is listed per residue, and a value of zero is assigned if that residue does not have a particular torsion associated with it. \n",
    "<br><br>\n",
    "\n",
    "**This script also outputs several other files:**\n",
    "\n",
    "Each is a list of the KL of that torsion, for each residue. \n",
    "\n",
    "* KL_psi.dat\n",
    "\n",
    "* KL_phi.dat\n",
    "\n",
    "* KL_chi1.dat\n",
    "\n",
    "* KL_chi2.dat\n",
    "\n",
    "\n",
    "Also a file which sums the KL for *Phi+Psi* as \"backbone\"; and *Chi1+Chi2* as \"sidechain\".\n",
    "\n",
    "* KL_backbone.dat\n",
    "\n",
    "* KL_sidechain.dat\n",
    "\n",
    "\n",
    "> #### <span style=\"color:Purple\">To run the script in terminal instead of in the notebook: </span>\n",
    "\n",
    "> `python script.py KL-output-directory`\n",
    "\n",
    "> <span style=\"color:LightSlateGray\"> e.g.</span>\n",
    "\n",
    "> `python 5_combining_psi_phi_chi.py KL_OUTPUT/0_system_A_1_system_B`"
   ]
  },
  {
   "cell_type": "markdown",
   "metadata": {},
   "source": [
    "---\n",
    "\n",
    "As mentioned before, it is sensible to check that the output from the two systems is the same (to check for any errors with different topology, for example). \n",
    "\n",
    "`$ vimdiff 1_DIHEDRALS/0_system_A/DIHEDRALS_CA_angles_indexes.dat 1_DIHEDRALS/1_system_B/DIHEDRALS_CA_angles_indexes.dat`\n",
    "\n",
    "If they are identical, copy one of these to the folder 1_DIHEDRALS:"
   ]
  },
  {
   "cell_type": "code",
   "execution_count": 10,
   "metadata": {},
   "outputs": [
    {
     "data": {
      "text/plain": [
       "u'/home/t702348/lisa/X_PDK1_tutorial/0_Analysis/1_DIHEDRALS'"
      ]
     },
     "execution_count": 10,
     "metadata": {},
     "output_type": "execute_result"
    }
   ],
   "source": [
    "pwd"
   ]
  },
  {
   "cell_type": "code",
   "execution_count": 11,
   "metadata": {},
   "outputs": [],
   "source": [
    "cp 0_system_A/DIHEDRALS_CA_angles_indexes.dat ."
   ]
  },
  {
   "cell_type": "markdown",
   "metadata": {},
   "source": [
    "\n",
    "\n",
    "\n",
    "------\n",
    "\n",
    "The KL calculation will have output values in a folder named: `1_DIHEDRALS/KL_OUTPUT/0_system_A_1_system_B`\n",
    "\n",
    "To combine all the KL values, run the script in the cell below, `5_combining_psi_phi_chi.py`, with one argument which is the folder containing the KL output. \n",
    "\n",
    "---\n"
   ]
  },
  {
   "cell_type": "code",
   "execution_count": 12,
   "metadata": {},
   "outputs": [],
   "source": [
    "!python ../Scripts/5_combining_psi_phi_chi.py KL_OUTPUT/0_system_A_1_system_B"
   ]
  },
  {
   "cell_type": "markdown",
   "metadata": {},
   "source": [
    "\n",
    "So now we have a file with the residue number, the CA index and the corresponding KL values for each torsion; and other files where we group together the KL for the backbone torsions and the sidechain torsions separately. "
   ]
  },
  {
   "cell_type": "markdown",
   "metadata": {},
   "source": [
    "---\n",
    "\n",
    "# <span style=\"color:teal\"> Step 4 of the workflow: </span>\n",
    "\n",
    "---"
   ]
  },
  {
   "cell_type": "markdown",
   "metadata": {},
   "source": [
    "### Visualising the output of the KL calculation "
   ]
  },
  {
   "cell_type": "markdown",
   "metadata": {},
   "source": [
    "\n",
    "\n",
    "Normally we visualise the KL caldulation by inputting these backbone and sidechain KL values into the b-factor column of a pdb, which can then be colour coded in pymol to show the high-KL regions. \n",
    "\n",
    "Plotting the KL values of sidechain and backbone against the residue number (below), shows that the higher values for the backbone and sidechain tend to be for different residues. So it is useful to plot in pymol the sidechain and backbone separately. \n",
    "\n",
    "---\n",
    "\n"
   ]
  },
  {
   "cell_type": "code",
   "execution_count": 13,
   "metadata": {},
   "outputs": [
    {
     "data": {
      "text/plain": [
       "<matplotlib.legend.Legend at 0x7f44259300d0>"
      ]
     },
     "execution_count": 13,
     "metadata": {},
     "output_type": "execute_result"
    },
    {
     "data": {
      "image/png": "[encoded data removed]",
      "text/plain": [
       "<matplotlib.figure.Figure at 0x7f444af280d0>"
      ]
     },
     "metadata": {},
     "output_type": "display_data"
    }
   ],
   "source": [
    "backbone = np.loadtxt(\"KL_backbone.dat\")\n",
    "sidechain = np.loadtxt(\"KL_sidechain.dat\")\n",
    "\n",
    "plt.plot(backbone,label=\"backbone\")\n",
    "plt.plot(sidechain,label=\"sidechain\")\n",
    "plt.xlabel(\"Residue number\")\n",
    "plt.ylabel(\"KL divergence\")\n",
    "plt.legend()"
   ]
  },
  {
   "cell_type": "markdown",
   "metadata": {},
   "source": [
    "\n",
    "### 4.1 Loading the KL values into a pymol session\n",
    "---\n",
    "\n",
    "In the cell below, launch a pymol session and run the pymol script `../Scripts/6_pymol_all_dihed.pml`\n"
   ]
  },
  {
   "cell_type": "code",
   "execution_count": null,
   "metadata": {},
   "outputs": [],
   "source": [
    "!pymol ../Scripts/6_pymol_all_dihed.pml"
   ]
  },
  {
   "cell_type": "markdown",
   "metadata": {},
   "source": [
    "\n",
    "\n",
    "This should launch a pymol session, loading the pdb structure from one system, and creating a few separate objects: One with the KL for the backbone torsions and another for the KL for the sidechain. Then separately for Psi, Phi, Chi1 and Chi2.\n",
    "\n",
    "These are colour scaled individually: Since high KL values for each case may not be similar size it can be useful to look at them separately. If you want to scale the colour plot to the same values for both backbone and sidechain, this can be done by altering pymol_all_dihed.pml (there is a section commented out that can be changed on line 30). \n",
    "\n",
    "---\n",
    "\n",
    "A pymol session is then saved as **\"Dihedral_KL.pse\"**.\n",
    "\n",
    "The output should look similar to below. \n",
    "\n",
    "On the right, you can switch between backbone, sidechain, or individual torsions. \n",
    "\n",
    "Colour scale is: \n",
    "\n",
    "<img src=\"z_images/KL_colour_scale.png\" width=\"500\">"
   ]
  },
  {
   "cell_type": "markdown",
   "metadata": {
    "collapsed": true
   },
   "source": [
    "<img src=\"z_images/pymol_session_Dihedrals.png\">"
   ]
  },
  {
   "cell_type": "code",
   "execution_count": null,
   "metadata": {},
   "outputs": [],
   "source": []
  }
 ],
 "metadata": {
  "celltoolbar": "Raw Cell Format",
  "kernelspec": {
   "display_name": "Python 2",
   "language": "python",
   "name": "python2"
  },
  "language_info": {
   "codemirror_mode": {
    "name": "ipython",
    "version": 2
   },
   "file_extension": ".py",
   "mimetype": "text/x-python",
   "name": "python",
   "nbconvert_exporter": "python",
   "pygments_lexer": "ipython2",
   "version": "2.7.14"
  }
 },
 "nbformat": 4,
 "nbformat_minor": 1
}
