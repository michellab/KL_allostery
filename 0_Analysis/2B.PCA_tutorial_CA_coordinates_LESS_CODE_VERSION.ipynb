{
 "cells": [
  {
   "cell_type": "markdown",
   "metadata": {},
   "source": [
    "*To run cells with code, `shift + enter`* \n",
    "\n",
    "*To restart the session, `Kernel -> Restart and clear output`*"
   ]
  },
  {
   "cell_type": "markdown",
   "metadata": {},
   "source": [
    "# PCA analysis\n",
    "----\n",
    "\n",
    "----\n",
    "## Introduction \n",
    "\n",
    "-------\n"
   ]
  },
  {
   "cell_type": "markdown",
   "metadata": {},
   "source": [
    "### <span style=\"color:DarkRed\"> Some details on trajectory/topology input\n",
    "\n",
    "-------\n",
    "\n",
    "### C$\\alpha$ coordinate PCA\n",
    "#### Simulation input\n",
    "\n",
    "We will input several different simulations into the same PCA, which will have been run with different ligands: \n",
    "\n",
    "<img src='z_images/PCA_input.png' width=\"400\">\n",
    "<br>\n",
    "\n",
    "The trajectories that we input into the PCA must have same topology, so must be processed first to remove all water, ligands, etc.\n",
    "\n",
    "It is also important to do an accurate alignment of all the frames for each trajectory to the **same starting structure** if carrying out C$\\alpha$ coordinate PCA. Depending on the system, it may make sense to align everything, or only part of the structure. In this case, all C$\\alpha$ were used to align.\n",
    "\n",
    "In the `0_TRAJECTORIES` folder there is a file `first_frame.pdb` - which in each case is the same structure of the protein with ligands, ions and waters removed. Alignment for each trajectory can then be done with cpptraj (but is already done for the tutorial). There are some example scripts in the folder `/Scripts/Traj_processing_scripts`.\n",
    "\n",
    "For this tutorial, we will use every 5th snapshot of a 1$\\mu$s simulation (40,000 frames - original simulation 200,000 frames).\n",
    "\n",
    "Four simulations will be used: \n",
    "\n",
    "* 0_system_A (PDK1 with allosteric inhibitor 1F8 bound. PDB ID 3ORX.)\n",
    "\n",
    "\n",
    "* 1_system_B (PDK1 with allosteric activator 2A2 bound. PDB ID 3ORZ.)\n",
    "\n",
    "\n",
    "* 2_system_C (PDK1 with no allosteric ligand bound.)\n",
    "\n",
    "\n",
    "* 3_system_D (PDK1 with allosteric activator J30 bound. PDB ID 3OTU)\n",
    "\n",
    "\n",
    "\n",
    "**_Note: Very short example trajectories have been provided due to file size limitations. As these are only a small section of the full trajectory, the result of the PCA is not clear, and is just to give an example on how to run the script._**"
   ]
  },
  {
   "cell_type": "markdown",
   "metadata": {},
   "source": [
    "### <span style=\"color:DarkRed\">Some background on PCA\n",
    "    \n",
    "From a set of data $\\begin{equation} X_t\\end{equation}$ which we obtain from the trajectory, we compute the covariance matrix:\n",
    "\n",
    "\\begin{equation}\n",
    "C=(X−μ)^T(X−μ)\n",
    "\\end{equation}\n",
    "\n",
    "and solve  the eigenvalue problem:\n",
    "\\begin{equation}\n",
    "Cr_i=σ_ir_i\n",
    "\\end{equation}\n",
    "\n",
    "$\\begin{equation} r_i \\end{equation}$ are the principal components and $\\begin{equation} σ_i\\end{equation}$ are their respective variances.\n",
    "\n",
    "The input data $\\begin{equation} X_t\\end{equation}$ can be something like C$\\alpha$ coordinates, or backbone or sidechain torsions. \n",
    "\n",
    "In order to compare different simuluations, we do the dimensionality reduction on all available trajectories of the system. In this case, we have 4 different simulations, and will input all into the PCA together. We can then compare the highest variance motions between the different systems. "
   ]
  },
  {
   "cell_type": "markdown",
   "metadata": {},
   "source": [
    "**Reduction of dimensionality**\n",
    "\n",
    "This therefore allows a large dimensional dataset (i.e. all C$\\alpha$ coordinates in x, y and z directions) to be reduced into a smaller number of dimensions, where the new set of dimensions should still account for a large amount of the variance. \n",
    "\n",
    "<img src='z_images/PCA_dimensions.png' width=\"400\" >\n",
    "\n",
    "\n",
    "The output of this is a set of principal components, with Principal Component 1 (PC1) having the highest variance, and subsequent PC's having decreasing variance. \n",
    "\n",
    "As a guideline, we usually calculate the first 10 principal components, and we can check how much of the variance these first 10 PCs account for. \n",
    "\n",
    "The following script selects a subset of residues (it excludes the terminal regions of the model protein) and carries out a C$\\alpha$ coordinate PCA. \n",
    "\n"
   ]
  },
  {
   "cell_type": "markdown",
   "metadata": {},
   "source": [
    "### <span style=\"color:DarkRed\">Output from the PCA\n",
    "    \n",
    "The idea is to also use the output from the PCA in calculations of MI (Mutual Infomrmation) or KL (Kullback-Leibler) Divergence, therefore we need to output the values of PC per snapshot for each system, and distributions of these values.\n",
    "\n",
    "The script will output several things: \n",
    "\n",
    "\n",
    "* Frames corresponding to the minimum and maximum values of PC1 and PC2 for each system.\n",
    "\n",
    "\n",
    "* Per atom contribution to PC1 and PC2.\n",
    "\n",
    "\n",
    "* Per snapshot value of PC1 and PC2 for each system.\n",
    "\n",
    "\n",
    "* Distribution of values of PC1 and PC2 for each system."
   ]
  },
  {
   "cell_type": "markdown",
   "metadata": {},
   "source": [
    "    \n",
    "| Folder name | Allosteric ligand |\n",
    "| :--- | :-: | \n",
    "| 0_system_A | Inhibitor 1F8 |\n",
    "| 1_system_B | Activator 2A2 |\n",
    "| 2_system_C | No ligand |\n",
    "| 3_system_D | Activator J30 |\n",
    "\n"
   ]
  },
  {
   "cell_type": "markdown",
   "metadata": {},
   "source": [
    "#### The following packages are required: "
   ]
  },
  {
   "cell_type": "code",
   "execution_count": 1,
   "metadata": {
    "collapsed": false
   },
   "outputs": [],
   "source": [
    "import pyemma\n",
    "import pyemma.coordinates as coor\n",
    "from pyemma.coordinates import pca\n",
    "import mdtraj as md\n",
    "from pyemma.coordinates import load\n",
    "from pyemma.coordinates import source\n",
    "import numpy as np\n",
    "import os\n",
    "import matplotlib.pyplot as plt"
   ]
  },
  {
   "cell_type": "markdown",
   "metadata": {},
   "source": [
    "#### The following cell willl run the PCA analysis. \n",
    "\n",
    "Atom selection can be changed by editing the script `Scripts/7.PCA_tutorial_CA_coordinates.py` and changing the variable \"atom_sel\". This takes a string for the atom selection, in the format accepted by [mdtraj](http://mdtraj.org/latest/atom_selection.html \"mdtraj Atom Selection\")."
   ]
  },
  {
   "cell_type": "markdown",
   "metadata": {},
   "source": [
    "<br><br>\n",
    "Run the below cell with `shift + enter` : "
   ]
  },
  {
   "cell_type": "code",
   "execution_count": 3,
   "metadata": {
    "collapsed": false
   },
   "outputs": [
    {
     "name": "stdout",
     "output_type": "stream",
     "text": [
      "<mdtraj.Topology with 1 chains, 285 residues, 4676 atoms, 4732 bonds>\n",
      "\n",
      "Input trajectory locations: \n",
      "['0_TRAJECTORIES/0_system_A/traj0001.dcd', '0_TRAJECTORIES/1_system_B/traj0001.dcd', '0_TRAJECTORIES/2_system_C/traj0001.dcd', '0_TRAJECTORIES/3_system_D/traj0001.dcd']\n",
      "\n",
      "Obtaining file info: 100% (4/4) [##################################] eta 00:01 |\n",
      "Data input to PCA as follows: \n",
      "trajectory length =  2000\n",
      "number of dimensions =  483\n",
      "number of trajectories = 4\n",
      "total number of frames =  8000\n",
      "\n",
      "Running PCA\n",
      "calc mean+cov: 100% (80/80) [######################################] eta 00:00 |\n",
      "Generating per system output\n",
      "getting output of PCA: 100% (80/80) [##############################] eta 00:01 |\n",
      "\n",
      "Saving frames corresponding to the minimum and maximum values of PCA for each system to folder 2_PCA/CA_COOR_OUTPUT\n",
      "\n",
      "Calculating variance for calculated PCs\n",
      "Percentage variance PC1:  63.6287756507\n",
      "Percentage variance PC2:  24.3201725532\n",
      "Percentage variance PC3:  4.84762418148\n",
      "Percentage variance PC4:  2.49029887996\n",
      "Percentage variance PC5:  1.65588675722\n",
      "Percentage variance PC6:  0.748299508045\n",
      "Percentage variance PC7:  0.545535602939\n",
      "Percentage variance PC8:  0.451191217675\n",
      "Percentage variance PC9:  0.309431959777\n",
      "Percentage variance PC10:  0.227442252212\n",
      "Sum of variance for first 10 PCs:  99.2246585632\n",
      "\n",
      "Calculating bin ranges to histogram PC1 and PC2.\n",
      "Bin range will be from -24 to 12 for PC1\n",
      "Bin range will be from -18 to 21 for PC2\n",
      "Number of populated bins: 49\n",
      "Number of zero bins: 11\n",
      "Amount added to empty bins: 9.09090909091e-08\n",
      "Number of populated bins: 58\n",
      "Number of zero bins: 2\n",
      "Amount added to empty bins: 5e-07\n",
      "Number of populated bins: 3\n",
      "Number of zero bins: 57\n",
      "Amount added to empty bins: 1.75438596491e-08\n",
      "Number of populated bins: 4\n",
      "Number of zero bins: 56\n",
      "Amount added to empty bins: 1.78571428571e-08\n",
      "Number of populated bins: 58\n",
      "Number of zero bins: 2\n",
      "Amount added to empty bins:  5e-07\n",
      "Number of populated bins: 41\n",
      "Number of zero bins: 19\n",
      "Amount added to empty bins:  5.26315789474e-08\n",
      "Number of populated bins: 3\n",
      "Number of zero bins: 57\n",
      "Amount added to empty bins:  1.75438596491e-08\n",
      "Number of populated bins: 3\n",
      "Number of zero bins: 57\n",
      "Amount added to empty bins:  1.75438596491e-08\n",
      "\n",
      "_________________________________________\n",
      "All output saved to 2_PCA/CA_COOR_OUTPUT.\n",
      "_________________________________________\n"
     ]
    }
   ],
   "source": [
    "!python Scripts/7.PCA_tutorial_CA_coordinates.py"
   ]
  },
  {
   "cell_type": "markdown",
   "metadata": {},
   "source": [
    "---\n",
    "\n",
    "#### Move to the output folder:"
   ]
  },
  {
   "cell_type": "code",
   "execution_count": 4,
   "metadata": {
    "collapsed": false
   },
   "outputs": [
    {
     "name": "stdout",
     "output_type": "stream",
     "text": [
      "/home/lisa/Desktop/1_Project/0_analysis/00_scripts_GIT/1_KL_allostery/Z_PDK1_tutorial/0_Analysis/2_PCA/CA_COOR_OUTPUT\n"
     ]
    }
   ],
   "source": [
    "cd 2_PCA/CA_COOR_OUTPUT/"
   ]
  },
  {
   "cell_type": "markdown",
   "metadata": {},
   "source": [
    "### Loading the PCA atom contribution values into a pymol session\n",
    "---\n",
    "\n",
    "In the cell below or from a terminal window in the folder `2_PCA/CA_COOR_OUTPUT\n",
    "`, run the pymol script `../../Scripts/8_alter_B_factor.pml`\n",
    "\n",
    "This will launch a pymol session with many different structures:\n",
    "\n",
    "* Two structures with colour scale plot indicating the per atom comtribution to that Principal Component (PC) for PC1 and PC2.\n",
    "\n",
    "\n",
    "* For each system, the structures corresponding to the minimum and maximum values of PC1 and PC2. \n",
    "\n",
    "<br>\n",
    "\n",
    "<img src=\"z_images/PCA_colour_scale.png\" width=\"500\">\n"
   ]
  },
  {
   "cell_type": "code",
   "execution_count": 5,
   "metadata": {
    "collapsed": false
   },
   "outputs": [
    {
     "name": "stdout",
     "output_type": "stream",
     "text": [
      "/home/lisa/Software/Miniconda/bin/python2.7: No module named pymol\r\n"
     ]
    }
   ],
   "source": [
    "!pymol ../../Scripts/8_alter_B_factor.pml"
   ]
  },
  {
   "cell_type": "markdown",
   "metadata": {},
   "source": [
    "<img src=\"z_images/PCA_pymol.png\">"
   ]
  }
 ],
 "metadata": {
  "kernelspec": {
   "display_name": "Python 2",
   "language": "python",
   "name": "python2"
  },
  "language_info": {
   "codemirror_mode": {
    "name": "ipython",
    "version": 2
   },
   "file_extension": ".py",
   "mimetype": "text/x-python",
   "name": "python",
   "nbconvert_exporter": "python",
   "pygments_lexer": "ipython2",
   "version": "2.7.15"
  }
 },
 "nbformat": 4,
 "nbformat_minor": 1
}
