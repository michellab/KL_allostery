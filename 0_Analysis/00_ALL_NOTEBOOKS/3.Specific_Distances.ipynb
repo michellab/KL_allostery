{
 "cells": [
  {
   "cell_type": "markdown",
   "metadata": {},
   "source": [
    "# Calc distances of interest \n",
    "\n",
    "### KL"
   ]
  },
  {
   "cell_type": "code",
   "execution_count": null,
   "metadata": {},
   "outputs": [],
   "source": [
    "get_ipython().magic(u'pylab inline')\n",
    "import pyemma\n",
    "import pyemma.coordinates as coor\n",
    "from pyemma.coordinates import pca\n",
    "import mdtraj as md\n",
    "from pyemma.coordinates import load\n",
    "from pyemma.coordinates import source\n",
    "import numpy as np\n",
    "import os"
   ]
  },
  {
   "cell_type": "markdown",
   "metadata": {},
   "source": [
    "0_system_A (PDK1 with allosteric inhibitor 1F8 bound. PDB ID 3ORX)\n",
    "\n",
    "1_system_B (PDK1 with allosteric activator 2A2 bound. PDB ID 3ORZ.)\n",
    "\n",
    "2_system_C (PDK1 with no allosteric ligand bound - 3orx structure with ligand removed)\n",
    "\n",
    "3_system_D (PDK1 with allosteric activator J30 bound. PDB ID 3OTU)"
   ]
  }
 ],
 "metadata": {
  "kernelspec": {
   "display_name": "Python 2",
   "language": "python",
   "name": "python2"
  },
  "language_info": {
   "codemirror_mode": {
    "name": "ipython",
    "version": 2
   },
   "file_extension": ".py",
   "mimetype": "text/x-python",
   "name": "python",
   "nbconvert_exporter": "python",
   "pygments_lexer": "ipython2",
   "version": "2.7.14"
  }
 },
 "nbformat": 4,
 "nbformat_minor": 1
}
