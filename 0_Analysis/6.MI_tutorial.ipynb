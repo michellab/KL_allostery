{
 "cells": [
  {
   "cell_type": "markdown",
   "metadata": {},
   "source": [
    "*To run cells with code, `shift + enter`* \n",
    "\n",
    "*To restart the session, `Kernel -> Restart and clear output`*"
   ]
  },
  {
   "cell_type": "markdown",
   "metadata": {},
   "source": [
    "# Mutual Information (MI) analysis\n",
    "\n",
    "----\n",
    "\n",
    "----\n",
    "## Introduction \n",
    "-------"
   ]
  },
  {
   "cell_type": "markdown",
   "metadata": {},
   "source": [
    "### <span style=\"color:DarkRed\"> Some details on the input data\n",
    "    \n",
    "\n",
    "-------\n",
    "    \n",
    "From the previous analysis, we will have generated data for different descriptors: \n",
    "\n",
    "* Torsions\n",
    "\n",
    "\n",
    "* C$\\alpha$ PCA \n",
    "\n",
    "\n",
    "* C$\\alpha$ distances (all pairwise C$\\alpha$-C$\\alpha$ distances)\n",
    "\n",
    "Normally we also include analysis for:\n",
    "\n",
    "* Energy decomposition (all pairwise non-bonded energies) for ligand or substrate\n",
    "\n",
    "\n",
    "* Specific distances (particular distances relevant to system)\n",
    "\n",
    "\n",
    "* Torsion PCA\n",
    "\n",
    "-------\n",
    "\n",
    "This means we have already a lot of data we can use for the MI calculation. \n",
    "\n",
    "At the moment, the script just takes two variables and computes MI. \n",
    "\n",
    "The next steps are to develop this to calculate all possible pairs of variables, depending on the analysis we have already run: \n",
    "\n",
    "\n",
    "e.g. \n",
    "<br>\n",
    "- Calculate MI between all pairs of torsions to find motions which are correlated\n",
    "\n",
    "\n",
    "- Calculate all pairwise interaction energies with all torsions to find motions correlated to particular interactions of ligand or substrate\n"
   ]
  },
  {
   "cell_type": "markdown",
   "metadata": {},
   "source": [
    "### <span style=\"color:DarkRed\"> Some background on Information Theory.\n",
    "\n",
    "---\n",
    "\n",
    "Both KL divergence and MI come from [information theory](https://en.wikipedia.org/wiki/Information_theory \"Information Theory\"), and both are based on [information entropy](https://en.wikipedia.org/wiki/Entropy_(information_theory \"Information Entropy\"):\n",
    "\n",
    "\n",
    "**Information entropy _H_ :**\n",
    "\n",
    "Information entropy tells us how much \"information\" is present in a random variable. \n",
    "\n",
    "For example, the more uncertain or random a variable is, the more information it will contain. The less random the variable, the less information it contains. \n",
    "\n",
    "\n",
    "The definition of entropy used in information theory is directly analogous to the definition used in [statistical thermodynamics](https://en.wikipedia.org/wiki/Entropy_in_thermodynamics_and_information_theory). \n",
    "\n",
    "\\begin{equation}\n",
    "{\\displaystyle H=-\\sum _{i}p_{i}\\log (p_{i})}\n",
    "\\end{equation}\n",
    "\n",
    "\n",
    "**KL Divergence _D<sub>KL</sub>_ :**\n",
    "\n",
    "The KL calculations highlighted differences between different systems (e.g. activator vs. inhibitor). KL divergence is also known as \"Relative entropy\":\n",
    "\n",
    "\\begin{equation}\n",
    "D_{KL} (P\\|Q)=\\sum _{i}P(i)\\,\\log {\\frac {P(i)}{Q(i)}}\n",
    "\\end{equation}\n",
    "\n",
    "\n",
    "\n",
    "MI calculations will determine whether two particular descriptors are correlated for one system. For example, in the activated system, do the interaction energies of the ligand correlate with particular torsions, or particular principal components. \n",
    "\n",
    "<br>\n",
    "\n",
    "**Mutual information _I(X;Y)_ :** \n",
    "\n",
    "\\begin{equation}\n",
    "I(X;Y)=\\sum _{y\\in Y}\\sum _{x\\in X}p(x,y)\\log {\\left({\\frac {p(x,y)}{p(x)\\,p(y)}}\\right)}\n",
    "\\end{equation}\n",
    "\n",
    "where: \n",
    "\n",
    "p(x,y) => joint probability function of the two variables X and Y \n",
    "\n",
    "p(x) and p(y) => marginal probability distributions of the two variables X and Y"
   ]
  },
  {
   "cell_type": "markdown",
   "metadata": {},
   "source": [
    "MI can also be defined as follows:\n",
    "\n",
    "\\begin{equation}\n",
    "{\\begin{aligned}I(X;Y)&{}\\equiv \\mathrm {H} (X)-\\mathrm {H} (X|Y)\\\\&{}\\equiv \\mathrm {H} (Y)-\\mathrm {H} (Y|X)\\\\&{}\\equiv \\mathrm {H} (X)+\\mathrm {H} (Y)-\\mathrm {H} (X,Y)\\\\&{}\\equiv \\mathrm {H} (X,Y)-\\mathrm {H} (X|Y)-\\mathrm {H} (Y|X)\\end{aligned}}\n",
    "\\end{equation}\n"
   ]
  },
  {
   "cell_type": "markdown",
   "metadata": {},
   "source": [
    "\n",
    "\n",
    "The script will compute MI as:\n",
    "\\begin{equation}\n",
    "I(X;Y)= H(X) + H(Y) - H(X,Y)\n",
    "\\end{equation}"
   ]
  },
  {
   "cell_type": "markdown",
   "metadata": {},
   "source": [
    "# <span style=\"color:DarkRed\"> Overall workflow\n",
    "\n",
    "Summary of the overall workflow:"
   ]
  },
  {
   "cell_type": "markdown",
   "metadata": {},
   "source": [
    "<img src=\"z_images/MI_calculation.png\" width=\"800\" >"
   ]
  },
  {
   "cell_type": "markdown",
   "metadata": {},
   "source": [
    "\"**Step 2.**\" can also be another geometric feature, if you want to test for correlation between two different distances/angles, for example.\n",
    "\n",
    "### <span style=\"color:DarkRed\">  Accounting for noise\n",
    "\n",
    "In order to check that our signal is \"real\" and not just an artefact of finite sampling, we can add a correction. To do this, we take one of the variables which we want to compute MI for, randomise it in time, and then again compute MI. \n",
    "\n",
    "We can then subtract this \"not true MI\" from the MI we obtained from the original data. \n",
    "\n",
    "<br>\n",
    "\\begin{equation}\n",
    "{MI}_{corrected} = MI_{raw-data} - MI_{randomised-data}\n",
    "\\end{equation}\n",
    "\n",
    "<br>"
   ]
  },
  {
   "cell_type": "markdown",
   "metadata": {},
   "source": [
    "<img src=\"z_images/MI_randomise.png\" width=\"500\" >\n",
    "\n",
    "<br>"
   ]
  },
  {
   "cell_type": "markdown",
   "metadata": {},
   "source": [
    "### <span style=\"color:DarkRed\">  Selecting the correct number of bins\n",
    "\n",
    "An appropriate number of bins to use for calculating probability distributions for MI depends on the size of the dataset.\n",
    "\n",
    "We can compute the MI between two variables for a range of bin numbers, and choose the number of bins which maximises the \"real\" MI we obtain. \n",
    "\n",
    "For the two sets of data above, MI<sub>(raw data)</sub>  and MI<sub>(randomised data)</sub> are computed for a range of bin values and so we can obtain MI<sub>(corr)</sub> as a function of the number of bins. We can then choose the number of bins which corresponds to the maximum value of MI<sub>(corr)</sub>.\n",
    "\n",
    "\n"
   ]
  },
  {
   "cell_type": "markdown",
   "metadata": {},
   "source": [
    "<img src=\"z_images/MI_bins.png\" width=\"600\" >"
   ]
  },
  {
   "cell_type": "markdown",
   "metadata": {},
   "source": [
    "---\n",
    "\n",
    "### To run the script\n",
    "\n",
    "Pass the script with the location to two sets of data, and the number of bins to use for each set of data.\n",
    "\n",
    "`script , variableA , variableB , binsA , binsB = argv`\n",
    "\n",
    "e.g.  `$ MI_calc.py PC1_raw_data_system_A.dat raw_data_psi_1.dat 100 100`\n",
    "\n",
    "And this can tell us whether PC1 and the first psi torison have any correlation. "
   ]
  },
  {
   "cell_type": "code",
   "execution_count": null,
   "metadata": {},
   "outputs": [],
   "source": [
    "!python Scripts/10_MI_calc.py **filepathA** **filepathB** **binsA** **binsB**"
   ]
  },
  {
   "cell_type": "markdown",
   "metadata": {},
   "source": [
    "### Future work\n",
    "We plan to be able to calculate all combinations of variables: So each pairwise interaction vs. each dihedral - and find which regions show correlated motions or interactions. \n",
    "\n",
    "Input could be two different variables: \n",
    "\n",
    "* Torsions with interaction energies. \n",
    "\n",
    "\n",
    "Or both the same: \n",
    "\n",
    "* All torsions vs all torsions (to find motions which are correlated).\n",
    "\n",
    "MI will then be visualised as a plot, as below."
   ]
  },
  {
   "cell_type": "markdown",
   "metadata": {},
   "source": [
    "<img src=\"z_images/MI_plan.png\" width=\"500\">"
   ]
  },
  {
   "cell_type": "markdown",
   "metadata": {},
   "source": [
    "This could be particularly useful for allostery, as it could help to find correlated motions or interactions which involve the orthosteric site and the allosteric site. "
   ]
  }
 ],
 "metadata": {
  "kernelspec": {
   "display_name": "Python 2",
   "language": "python",
   "name": "python2"
  },
  "language_info": {
   "codemirror_mode": {
    "name": "ipython",
    "version": 2
   },
   "file_extension": ".py",
   "mimetype": "text/x-python",
   "name": "python",
   "nbconvert_exporter": "python",
   "pygments_lexer": "ipython2",
   "version": "2.7.14"
  }
 },
 "nbformat": 4,
 "nbformat_minor": 1
}
