{
 "cells": [
  {
   "cell_type": "markdown",
   "metadata": {},
   "source": [
    "Use this version of the notebook if you want to run everything interactively. \n",
    "\n",
    "*To run cells with code, `shift + enter`* \n",
    "\n",
    "*To restart the session, `Kernel -> Restart and clear output`*"
   ]
  },
  {
   "cell_type": "markdown",
   "metadata": {},
   "source": [
    "# Dihedral Kullback-Leibler (KL) divergence\n",
    "----\n",
    "\n",
    "----\n",
    "## Introduction \n",
    "\n",
    "-------\n",
    "\n",
    "### Some details on trajectory/topology input\n",
    "\n",
    "-------\n",
    "\n",
    "#### Simulation input\n",
    "\n",
    "To run these scripts, you should have two (or more) different trajectories for the same protein, with different effectors bound. In these examples, the simulations have different allosteric ligands. \n",
    "\n",
    "\n",
    "\n",
    "#### Topology\n",
    "\n",
    "It is important that the data is first processed to ensure the same residues are present. This script will calculate psi/phi/chi in the order which they are in the topology - so in order for the script to work you need to have identical order of residues between the different simulations. \n",
    "\n",
    "\n",
    "\n",
    "#### Trajectory \n",
    "\n",
    "All of these scripts will take input trajectories which are accepted by **[mdtraj](http://mdtraj.org/1.9.0/load_functions.html \"mdtraj.Trajectory\")**.\n",
    "\n",
    "There are some basic scripts in the folder **`Scripts/Traj_processing_scripts`** for processing trajectory and topology using parmed or cpptraj. Remove any protein residues not common to both trajectory and also you can remove water as it will not be needed. \n",
    "\n",
    "As long as you have the same sequence of residues for the protein in each case, there is no need to remove any substrate,  ligand or ions, but it is useful to do also this now if you are also going to carry out a PCA. \n",
    "\n",
    "\n",
    "\n",
    "####  KL\n",
    "\n",
    "Usually for each KL calculation, two different simulations are compared. These could be a simulation with no ligand bound and one with a ligand. Or two simulations with different ligands (i.e. activating or inhibiting ligands). \n",
    "\n",
    "Also in the scripts folder is a script to create two smaller trajectory from one larger one. It is useful to calculate the KL divergence of one system relative to itself, using two different (or one separated) trajectories, in order to take account of noise. \n",
    "\n",
    "----\n"
   ]
  },
  {
   "cell_type": "markdown",
   "metadata": {},
   "source": [
    "### Kullback-Leibler Divergence \n",
    "\n",
    "---\n",
    "**KL divergence is defined as:**\n",
    "\n",
    "\\begin{equation}\n",
    "D_{KL} (P\\|Q)=\\sum _{i}P(i)\\,\\log {\\frac {P(i)}{Q(i)}}\n",
    "\\end{equation}\n",
    "\n",
    "In this case, distribution P will be the data obtained from one simulation *(i.e. protein with activator bound)* and distribution Q will be that obtained from another simulation *(i.e. protein with inhibitor bound)*."
   ]
  },
  {
   "cell_type": "markdown",
   "metadata": {},
   "source": [
    "**P** and **Q** refer to distributions of a particular descriptor, for example a particular Psi angle, and we can collect the value of that Psi angle as a distribution over the trajectory. \n",
    "\n",
    "So for the activator bound simulation we could obtain the distibution in green for **P**, and for the inhibitor bound simulation we obtain the distribution in blue for **Q**. \n",
    "\n",
    "* In the first case, the distributions are similar, and so the mean value will be similar, and the KL divergence will be small. \n",
    "\n",
    "\n",
    "* In the second case, the mean value is similar, but the KL divergence will be higher since the distributions are not the same across all bins. \n",
    "\n",
    "\n",
    "* In the third case, the mean value is different and the KL divergence is higher. \n"
   ]
  },
  {
   "cell_type": "markdown",
   "metadata": {},
   "source": [
    "\n",
    "<img src=\"z_images/distributions.png\">\n",
    "\n",
    "-----------\n"
   ]
  },
  {
   "cell_type": "markdown",
   "metadata": {},
   "source": [
    "### Overall workflow\n",
    "\n",
    "-----------\n",
    "\n",
    "So to summarise the overall workflow:\n",
    "\n",
    "1. Run simulations. \n",
    "\n",
    "2. Calculate distributions of torsions. \n",
    "\n",
    "3. Compute KL between the different systems. \n",
    "\n",
    "4. Input KL as a B-factor into the pdb to visualise."
   ]
  },
  {
   "cell_type": "markdown",
   "metadata": {},
   "source": [
    "<img src=\"z_images/KL_calculation.png\" width=\"800\" >"
   ]
  },
  {
   "cell_type": "markdown",
   "metadata": {},
   "source": [
    "---\n",
    "##### Some notes on the workflow: \n",
    "\n",
    "* Step 1 of the workflow: Run simulations and process the trajectories to ensure you have identical topology / order of residues.\n",
    "\n",
    "\n",
    "* Step 2 of the workflow: The first script calculates distributions of Psi, Phi, Chi1 and Chi2 from a trajectory. These distributions are output as a text file for each torsion, into folders PSI, PHI, CHI1, CHI2 in the directory OUTPUT. In step 2 we also have to assign each torsion to the correct residue.\n",
    "\n",
    "\n",
    "* Step 3 of the workflow: KL values are then calculated with another script which just loops through the files output by the first script, and these KL values can then be input onto the structure to highlight the high KL regions, for Psi, Phi, Chi1 and Chi2 separately; or grouped as either backbone or sidechain. \n",
    "\n",
    "\n",
    "* Step 4 of the workflow: A pymol script will load the output from the KL calculation to be visualised on the structure.\n"
   ]
  },
  {
   "cell_type": "markdown",
   "metadata": {},
   "source": [
    "# <span style=\"color:teal\"> Step 1 of the workflow: </span>\n",
    "## <span style=\"color:teal\"> Run simulations and set up folders to run the analysis </span>\n",
    "\n",
    "-------\n",
    "\n",
    "--------"
   ]
  },
  {
   "cell_type": "markdown",
   "metadata": {},
   "source": [
    "### 1.1 Folder and filenames\n",
    "\n",
    "-------\n",
    "\n",
    "#### *<span style=\"color:red\">The folders for trajectories are already set up for the tutorial: so there is no need to set up these folders for the tutorial; below for info only.</span> *\n",
    "\n",
    "\n",
    "To run on other systems set up the following folder structure to complete the analysis.\n",
    "\n",
    "**`mkdir 0_Analysis`**  \n",
    "\n",
    "Then set up a folder for trajectory data.\n",
    "\n",
    "**`cd 0_Analysis\n",
    "mkdir 0_TRAJECTORIES`**\n",
    "\n",
    "Within 0_TRAJECTORIES make a folder for each system, and inside these folders either put the trajectory and topology files, or soft links to them. Also include a pdb file with the same topology as the trajectory (usually just take the first frame of the simulation).\n",
    "\n",
    "**`cd 0_TRAJECTORIES\n",
    "mkdir 0_system_A\n",
    "mkdir 1_system_B`**\n",
    "\n",
    "**`cd 0_system_A\n",
    "ln -s /home/somefilelocation/traj0001.dcd\n",
    "ln -s /home/somefilelocation/topology.parm7\n",
    "ln -s /home/somefilelocation/first_frame.pdb`**\n",
    "\n",
    "Within each you can have one or more trajectories. For example, if you have a long trajectory which was run in segments, or if you want to use many different runs of the same system in order to use more snapshots, just input these separately in \"filename_list\":\n",
    "\n",
    "*e.g.* \n",
    "*filename_list_system_A = [\"traj1.dcd\" , \"traj2.dcd\" , \"traj3.dcd\" , \"traj4.dcd\" , \"traj5.dcd\"]*\n",
    "\n",
    "<span style=\"color:red\"> *(We plan to change this in order just to automatically pull all files with a particular extention (e.g. .dcd) into these lists: but for now they have to be input)*</span>\n",
    "\n",
    "\n",
    "### 1.2 Simulations for this tutorial\n",
    "------\n",
    "\n",
    "\n",
    "For this example, two systems are used: \n",
    "\n",
    "**0_system_A**  (*PDK1 with allosteric inhibitor 1F8 bound. PDB ID [3ORX](https://www.rcsb.org/structure/3ORX)*)\n",
    "\n",
    "**1_system_B**  (*PDK1 with allosteric activator 2A2 bound. PDB ID [3ORZ](https://www.rcsb.org/structure/3orz).*)\n",
    "\n",
    "And within each of these folders are two trajectory files (in .dcd format) along with the topology file (in .parm7 format). \n",
    "\n",
    "traj0001.dcd and traj0002.dcd are both 500 ns sections of the same simulation which have been post processed to remove everything other than the protein (water, ligand, ATP, Mg2+ ions and substrate peptide are present in the original simulation but removed for analysis).\n",
    "\n",
    "Ideally have a tracectory with many frames (save a snapshot around every 10 ps or so). \n",
    "\n",
    "The trajectories included here initially have 100k snapshots for 500 ns simulation, but have been reduced to 2000 snapshots per 500 ns for the purpose of the tutorial. "
   ]
  },
  {
   "cell_type": "markdown",
   "metadata": {},
   "source": [
    "-----\n",
    "\n",
    "Check we are in the correct folder `0_Analysis`:"
   ]
  },
  {
   "cell_type": "code",
   "execution_count": 1,
   "metadata": {},
   "outputs": [
    {
     "data": {
      "text/plain": [
       "u'/home/t702348/lisa/X_PDK1_tutorial/0_Analysis'"
      ]
     },
     "execution_count": 1,
     "metadata": {},
     "output_type": "execute_result"
    }
   ],
   "source": [
    "pwd"
   ]
  },
  {
   "cell_type": "markdown",
   "metadata": {},
   "source": [
    "Check that filenames within each folder are correctly set up"
   ]
  },
  {
   "cell_type": "code",
   "execution_count": 2,
   "metadata": {},
   "outputs": [
    {
     "name": "stdout",
     "output_type": "stream",
     "text": [
      "\u001b[0m\u001b[01;34mcap_traj\u001b[0m/        \u001b[00mfulltraj.dcd\u001b[0m              \u001b[00mshort_traj_aligned.dcd\u001b[0m  \u001b[00mtraj0002.dcd\u001b[0m\r\n",
      "\u001b[00mcpptraj.log\u001b[0m      \u001b[00mlongtraj_aligned_PCA.dcd\u001b[0m  \u001b[00mtopology.parm7\u001b[0m\r\n",
      "\u001b[00mfirst_frame.pdb\u001b[0m  \u001b[00mparmed.log\u001b[0m                \u001b[00mtraj0001.dcd\u001b[0m\r\n"
     ]
    }
   ],
   "source": [
    "ls 0_TRAJECTORIES/0_system_A/"
   ]
  },
  {
   "cell_type": "code",
   "execution_count": 3,
   "metadata": {},
   "outputs": [
    {
     "name": "stdout",
     "output_type": "stream",
     "text": [
      "\u001b[0m\u001b[01;34mcap_traj\u001b[0m/             \u001b[00mfulltraj.dcd\u001b[0m              \u001b[00mshort_traj_aligned.dcd\u001b[0m\r\n",
      "\u001b[00mcpptraj.log\u001b[0m           \u001b[00mlongtraj_aligned_PCA.dcd\u001b[0m  \u001b[00mtopology.parm7\u001b[0m\r\n",
      "\u001b[00mfirst_frame.pdb\u001b[0m       \u001b[00mparmed.log\u001b[0m                \u001b[00mtraj0001.dcd\u001b[0m\r\n",
      "\u001b[00mfirst_frame_test.pdb\u001b[0m  \u001b[00mSaved_first_frame.pdb\u001b[0m     \u001b[00mtraj0002.dcd\u001b[0m\r\n"
     ]
    }
   ],
   "source": [
    "ls 0_TRAJECTORIES/1_system_B/"
   ]
  },
  {
   "cell_type": "markdown",
   "metadata": {},
   "source": [
    "\n",
    "---\n",
    "\n",
    "---\n",
    "\n",
    "---\n",
    "\n",
    "# <span style=\"color:teal\"> Step 2 of the workflow: </span>\n",
    "## <span style=\"color:teal\"> Calculating dihedrals with 1_Dihedral.py </span>\n",
    "\n",
    "----\n",
    "\n",
    "----"
   ]
  },
  {
   "cell_type": "markdown",
   "metadata": {},
   "source": [
    "The following packages are required: "
   ]
  },
  {
   "cell_type": "code",
   "execution_count": 4,
   "metadata": {},
   "outputs": [
    {
     "name": "stdout",
     "output_type": "stream",
     "text": [
      "Populating the interactive namespace from numpy and matplotlib\n"
     ]
    }
   ],
   "source": [
    "import scipy as sp\n",
    "import numpy as np\n",
    "import mdtraj as md\n",
    "import sys\n",
    "import os\n",
    "import math\n",
    "get_ipython().magic(u'pylab inline')"
   ]
  },
  {
   "cell_type": "markdown",
   "metadata": {},
   "source": [
    "We will run the script for one system at a time  and restart the script between runs. In this case we are only running for 2 systems **0_system_A** and **1_system_B**.\n",
    "\n",
    "To do this, just change the value of `input_system` to either 0 or 1, which will run the script for 0_system_A or 1_system_B respectively. \n",
    "\n",
    "Usually if many systems should be run, this script can be run via a bash script (`Scripts/1_dihedral_many_systems.sh`) which will loop through this using different values for `input_system`."
   ]
  },
  {
   "cell_type": "markdown",
   "metadata": {},
   "source": [
    "### 2.1. Selecting input and setting trajectory/topology filenames\n",
    "----"
   ]
  },
  {
   "cell_type": "markdown",
   "metadata": {},
   "source": [
    "Select the system to run using `input_system`. First run as `input_system = 0` and then later as `input_system = 1`"
   ]
  },
  {
   "cell_type": "code",
   "execution_count": 5,
   "metadata": {},
   "outputs": [],
   "source": [
    "input_system = 0"
   ]
  },
  {
   "cell_type": "code",
   "execution_count": 6,
   "metadata": {},
   "outputs": [],
   "source": [
    "# system_list with folder names of different systems. \n",
    "system_list = [\"0_system_A\",\"1_system_B\"]\n",
    "\n",
    "# Input one or more trajectory names into filname list. \n",
    "filename_list = [\"traj0001.dcd\",\"traj0002.dcd\"]\n",
    "\n",
    "topology_filename = \"topology.parm7\"\n",
    "\n",
    "md_data = [\"0_TRAJECTORIES\"]"
   ]
  },
  {
   "cell_type": "markdown",
   "metadata": {},
   "source": [
    "### 2.2. Make lists of directories to trajectory data \n",
    "---\n",
    "\n",
    "Based on the info given above, the below 2 cells just create lists of file locations for trajectories. "
   ]
  },
  {
   "cell_type": "code",
   "execution_count": 7,
   "metadata": {},
   "outputs": [],
   "source": [
    "# Make a list with all file locations of trajectory data\n",
    "all_files_list = []\n",
    "\n",
    "for i in range(0,len(system_list)):\n",
    "    for j in range(0,len(filename_list)):\n",
    "        filenames = \"%s/%s/%s\" % (md_data[0],system_list[i],filename_list[j])\n",
    "        all_files_list.append(filenames)"
   ]
  },
  {
   "cell_type": "code",
   "execution_count": 8,
   "metadata": {},
   "outputs": [
    {
     "name": "stdout",
     "output_type": "stream",
     "text": [
      "[['0_TRAJECTORIES/0_system_A/traj0001.dcd', '0_TRAJECTORIES/0_system_A/traj0002.dcd'], ['0_TRAJECTORIES/1_system_B/traj0001.dcd', '0_TRAJECTORIES/1_system_B/traj0002.dcd']]\n"
     ]
    }
   ],
   "source": [
    "# Make a list of lists to separate file locations for each simulation.\n",
    "input_files = []\n",
    "for i in range(0,len(system_list)):\n",
    "    inside_list = []\n",
    "    for j in range(0,len(filename_list)):\n",
    "        filenames = \"%s/%s/%s\" % (md_data[0],system_list[i],filename_list[j])\n",
    "        inside_list.append(filenames)\n",
    "    input_files.append(inside_list)\n",
    "print (input_files)"
   ]
  },
  {
   "cell_type": "markdown",
   "metadata": {},
   "source": [
    "\n",
    "\n",
    "### 2.3. Create folders for the output files\n",
    "---"
   ]
  },
  {
   "cell_type": "code",
   "execution_count": 9,
   "metadata": {},
   "outputs": [],
   "source": [
    "for i in system_list:\n",
    "    if not os.path.exists(\"1_DIHEDRALS/%s/OUTPUT/PSI\" % i):\n",
    "        filename = \"1_DIHEDRALS/%s/OUTPUT/PSI\" % i\n",
    "        cmd = \"mkdir -p %s\" % filename\n",
    "        os.system(cmd)\n",
    "        \n",
    "for i in system_list:\n",
    "    if not os.path.exists(\"1_DIHEDRALS/%s/OUTPUT/PHI\" % i):\n",
    "        filename = \"1_DIHEDRALS/%s/OUTPUT/PHI\" % i\n",
    "        cmd = \"mkdir -p %s\" % filename\n",
    "        os.system(cmd)\n",
    "        \n",
    "for i in system_list:\n",
    "    if not os.path.exists(\"1_DIHEDRALS/%s/OUTPUT/CHI1\" % i):\n",
    "        filename = \"1_DIHEDRALS/%s/OUTPUT/CHI1\" % i\n",
    "        cmd = \"mkdir -p %s\" % filename\n",
    "        os.system(cmd)\n",
    "        \n",
    "for i in system_list:\n",
    "    if not os.path.exists(\"1_DIHEDRALS/%s/OUTPUT/CHI2\" % i):\n",
    "        filename = \"1_DIHEDRALS/%s/OUTPUT/CHI2\" % i\n",
    "        cmd = \"mkdir -p %s\" % filename\n",
    "        os.system(cmd)  "
   ]
  },
  {
   "cell_type": "code",
   "execution_count": 10,
   "metadata": {},
   "outputs": [
    {
     "data": {
      "text/plain": [
       "['0_TRAJECTORIES/0_system_A/traj0001.dcd',\n",
       " '0_TRAJECTORIES/0_system_A/traj0002.dcd']"
      ]
     },
     "execution_count": 10,
     "metadata": {},
     "output_type": "execute_result"
    }
   ],
   "source": [
    "# Check the system we have selected with \"input_system\".\n",
    "\n",
    "input_files[input_system]"
   ]
  },
  {
   "cell_type": "markdown",
   "metadata": {},
   "source": [
    "### 2.4. Load the trajectory\n",
    "---"
   ]
  },
  {
   "cell_type": "code",
   "execution_count": 11,
   "metadata": {},
   "outputs": [
    {
     "name": "stdout",
     "output_type": "stream",
     "text": [
      "One trajectory file traj0001.dcd is: \n",
      "<mdtraj.Trajectory with 2000 frames, 4676 atoms, 285 residues, and unitcells>\n",
      "Combined traj0001.dcd and traj0002.dcd is: \n",
      "<mdtraj.Trajectory with 4000 frames, 4676 atoms, 285 residues, and unitcells>\n"
     ]
    }
   ],
   "source": [
    "# Start by loading the first trajectory\n",
    "\n",
    "traj = md.load_dcd(input_files[input_system][0] , top=\"%s/%s/%s\" % (md_data[0],system_list[input_system],topology_filename))\n",
    "top = traj.topology\n",
    "print (\"One trajectory file traj0001.dcd is: \") \n",
    "print (traj)\n",
    "\n",
    "# Then loop through the remaining trajectories to add them to the first.\n",
    "\n",
    "for i in range(1,len(filename_list)):\n",
    "    traj_ADD = md.load_dcd(input_files[input_system][i] , top=\"%s/%s/%s\" % (md_data[0],system_list[input_system],topology_filename))\n",
    "    traj = traj.join(traj_ADD,check_topology=True, discard_overlapping_frames=False)\n",
    "    \n",
    "print (\"Combined traj0001.dcd and traj0002.dcd is: \") \n",
    "print (traj)"
   ]
  },
  {
   "cell_type": "markdown",
   "metadata": {},
   "source": [
    "#### *Here you can save the first frame as a pdb*\n",
    "\n",
    "For the tutorial, in order to load the results in pymol, there is already a pdb for each in the 0_TRAJECTORIES folder. \n",
    "\n",
    "If you don't already have a pdb, you can use the below to save for each system.\n",
    "\n",
    "`traj[0].save_pdb(\"%s/%s/first_frame.pdb\" % (md_data[0],system_list[input_system]))`"
   ]
  },
  {
   "cell_type": "markdown",
   "metadata": {},
   "source": [
    "### 2.5. Compute dihedrals\n",
    "---\n",
    "\n",
    "We use mdtraj to compute the dihedrals. The output of this: \n",
    "\n",
    "**psi_list[0]** gives the *atom indices* making up each psi torsion.\n",
    "\n",
    "**psi_list[1]** gives the *value of psi* for each residue, for *each snapshot*.\n",
    "\n",
    "\n",
    "#### Torsions calculated \n",
    "\n",
    "We have only included Psi and Phi for the backbone, and Chi1 and Chi2 for the sidechain torsions at this stage. However **mdtraj** can compute Psi, Phi, Omega, Chi1, Chi2, Chi3 and Chi4 so this could be extended. \n",
    "\n",
    "\n",
    "#### Memory issues:\n",
    "We loaded the whole trajectory to memory with `md.load_dcd` by loading traj0001.dcd and traj0002.dcd and joining them together; however this may not always be possible if you have limited memory, or a very large trajectory. \n",
    "\n",
    "You can also use **[md.iterload](http://mdtraj.org/1.9.0/api/generated/mdtraj.iterload.html \"mdtraj.iterload\")** instead of initally loading the entire trajectory to memory. This would be done as follows:\n",
    " \n",
    "#### Make lists to collect torsions: \n",
    "\n",
    "`psi_list = []\n",
    "phi_list = []\n",
    "chi1_list = []\n",
    "chi2_list = []`\n",
    "\n",
    "#### Use `md.iterload` to calculate torsions and append them to each list:\n",
    "\n",
    "`for chunk in md.iterload(trajfile, chunk=100, top=top):\n",
    "\tpsi_list.append(md.compute_psi(chunk,periodic=True,opt=True))\n",
    "\tphi_list.append(md.compute_phi(chunk,periodic=True,opt=True))\n",
    "\tchi1_list.append(md.compute_chi1(chunk,periodic=True,opt=True))\n",
    "\tchi2_list.append(md.compute_chi2(chunk,periodic=True,opt=True))`    \n",
    "    \n",
    "\n",
    "#### With `iterload`, the output is slightly different to `md.load`\n",
    "\n",
    "Further scripts will be set up to run this with iterload. "
   ]
  },
  {
   "cell_type": "code",
   "execution_count": 12,
   "metadata": {},
   "outputs": [
    {
     "name": "stdout",
     "output_type": "stream",
     "text": [
      " We have the following numbers of psi, phi, chi1 and chi2 for this system: \n",
      "[['Number of psi' '284']\n",
      " ['Number of phi' '284']\n",
      " ['Number of chi1' '252']\n",
      " ['Number of chi2' '204']]\n"
     ]
    }
   ],
   "source": [
    "psi_list = md.compute_psi(traj, periodic=True, opt=True)\n",
    "phi_list = md.compute_phi(traj, periodic=True, opt=True)\n",
    "chi1_list = md.compute_chi1(traj, periodic=True, opt=True)\n",
    "chi2_list = md.compute_chi2(traj, periodic=True, opt=True)\n",
    "\n",
    "number_angles_list = []\n",
    "number_angles_list.append(len(psi_list[0][:,0]))\n",
    "number_angles_list.append(len(phi_list[0][:,0]))\n",
    "number_angles_list.append(len(chi1_list[0][:,0]))\n",
    "number_angles_list.append(len(chi2_list[0][:,0]))\n",
    "number_angles_array = np.vstack((np.array(['Number of psi','Number of phi','Number of chi1','Number of chi2']),np.array(number_angles_list))).T\n",
    "\n",
    "print (\" We have the following numbers of psi, phi, chi1 and chi2 for this system: \") \n",
    "print (number_angles_array)\n",
    "\n",
    "np.savetxt(\"1_DIHEDRALS/number_angles.dat\",number_angles_array,fmt='%s')"
   ]
  },
  {
   "cell_type": "markdown",
   "metadata": {},
   "source": [
    "##### Some notes on format of the output of md.compute_psi"
   ]
  },
  {
   "cell_type": "markdown",
   "metadata": {},
   "source": [
    "`psi_list[0]` is the atom indices making up each psi."
   ]
  },
  {
   "cell_type": "code",
   "execution_count": 13,
   "metadata": {},
   "outputs": [
    {
     "name": "stdout",
     "output_type": "stream",
     "text": [
      "[[   0    2   22   24]\n",
      " [  24   26   44   46]\n",
      " [  46   48   66   68]\n",
      " ...\n",
      " [4607 4617 4619 4621]\n",
      " [4621 4623 4641 4643]\n",
      " [4643 4645 4660 4662]]\n"
     ]
    }
   ],
   "source": [
    "print (psi_list[0])"
   ]
  },
  {
   "cell_type": "markdown",
   "metadata": {},
   "source": [
    "Everything is zero indexed, so for the first residue, this will be `psi_list[0][0]`"
   ]
  },
  {
   "cell_type": "code",
   "execution_count": 14,
   "metadata": {},
   "outputs": [
    {
     "name": "stdout",
     "output_type": "stream",
     "text": [
      "[ 0  2 22 24]\n"
     ]
    }
   ],
   "source": [
    "print psi_list[0][0]"
   ]
  },
  {
   "cell_type": "markdown",
   "metadata": {},
   "source": [
    "`psi_list[1]` is the value of each psi, for each snapshot. So should be an array of `number_of_snapshots` x `number_of_psi` "
   ]
  },
  {
   "cell_type": "code",
   "execution_count": 15,
   "metadata": {},
   "outputs": [
    {
     "name": "stdout",
     "output_type": "stream",
     "text": [
      "(4000, 284)\n"
     ]
    }
   ],
   "source": [
    "print (psi_list[1]).shape"
   ]
  },
  {
   "cell_type": "markdown",
   "metadata": {},
   "source": [
    "To look at one particular psi, `psi_list[1][:,i]` is the value of each psi(i) for each frame of traj. \n",
    "\n",
    "The number i is zero indexed, so `psi_list[1][:,0]` is the first psi angle, for every snapshot."
   ]
  },
  {
   "cell_type": "code",
   "execution_count": 16,
   "metadata": {},
   "outputs": [
    {
     "name": "stdout",
     "output_type": "stream",
     "text": [
      "[2.1758876 1.8641511 2.698718  ... 2.8297236 3.015326  2.6422095]\n"
     ]
    }
   ],
   "source": [
    "print (psi_list[1][:,0])"
   ]
  },
  {
   "cell_type": "markdown",
   "metadata": {},
   "source": [
    "\n",
    "### 2.6. Outputting a file with CA indexes for each psi, phi, chi1 and chi2\n",
    "\n",
    "---\n",
    "\n",
    "\n",
    "The rest of this script saves each torsional angle numbered Psi(0) to Psi(n), Chi1(0) to Chi1(m), etc, and not per residue: so we need to match up which atom indexes match to which Psi, Phi, Chi1 & Chi2. \n",
    "\n",
    "The next cell saves a file with: \n",
    "\n",
    "    \n",
    "| CA index | PSI | PHI | CHI1 | CHI2 |\n",
    "| :--- | :-: | :-: | :--: | :--: |\n",
    "|7 |0 |0 |0| none|\n",
    "|18| 1 |1 |1| 0|\n",
    "|30| 2 |2| 2 |1|\n",
    "|52 |3| 3 |3| 2|\n",
    "|66| 4 |4 |4 |none|\n",
    "|82 |5 |5 |none |none|\n",
    "|92 |6 |6| 5| 3|\n",
    "\n",
    "\n",
    "\n",
    "\n",
    "Where the first column are the C$\\alpha$ indexes and then which Psi Phi Chi1 Chi2 should be assigned to that C$\\alpha$. Not all cases have Chi1 and Chi2 and so for those C$\\alpha$ they will show \"none\". \n",
    "\n",
    "We will run the script for each system, saving this file to the folder associated with that system in order to later check that the atom indices that we are calculating are the same for each torsion computed. \n",
    "\n",
    "After you have run the below cell for both systems, you can use vimdiff on the file output for each case: \n",
    "\n",
    "`$ vimdiff 1_DIHEDRALS/0_system_A/DIHEDRALS_CA_angles_indexes.dat 1_DIHEDRALS/1_system_B/DIHEDRALS_CA_angles_indexes.dat`"
   ]
  },
  {
   "cell_type": "code",
   "execution_count": 17,
   "metadata": {},
   "outputs": [],
   "source": [
    "c_alphas = top.select(\"name CA\")\n",
    "c_alphas_list = []\n",
    "for i in c_alphas:\n",
    "    c_alphas_list.append(i)\n",
    "\n",
    "psi_ca_list = []\n",
    "for i in psi_list[0][:,1]:\n",
    "    psi_ca_list.append(i)\n",
    "phi_ca_list = []\n",
    "for i in phi_list[0][:,2]:\n",
    "    phi_ca_list.append(i)\n",
    "chi1_ca_list = []\n",
    "for i in chi1_list[0][:,1]:\n",
    "    chi1_ca_list.append(i)\n",
    "chi2_ca_list = []\n",
    "for i in chi2_list[0][:,0]:\n",
    "    chi2_ca_list.append(i)\n",
    "\n",
    "psi_all_list = []\n",
    "phi_all_list = []\n",
    "chi1_all_list = []\n",
    "chi2_all_list = []\n",
    "\n",
    "for i in xrange(0, len(c_alphas)):\n",
    "    CA_index = c_alphas[i]\n",
    "    if CA_index in psi_list[0][:,1]:\n",
    "        psi_all_list.append(psi_ca_list.index(CA_index))\n",
    "    else:\n",
    "        psi_all_list.append(\"none\")\n",
    "    if CA_index in phi_list[0][:,2]:\n",
    "        phi_all_list.append(phi_ca_list.index(CA_index))\n",
    "    else:\n",
    "        phi_all_list.append(\"none\")\n",
    "    if CA_index in chi1_list[0][:,1]:\n",
    "        chi1_all_list.append(chi1_ca_list.index(CA_index))\n",
    "    else:\n",
    "        chi1_all_list.append(\"none\")\n",
    "    if CA_index in chi2_list[0][:,0]:\n",
    "        chi2_all_list.append(chi2_ca_list.index(CA_index))\n",
    "    else:\n",
    "        chi2_all_list.append(\"none\")\n",
    "\n",
    "psi_all_arr = np.array(psi_all_list)\n",
    "phi_all_arr = np.array(phi_all_list)\n",
    "chi1_all_arr = np.array(chi1_all_list)\n",
    "chi2_all_arr = np.array(chi2_all_list)\n",
    "\n",
    "CA_psi_phi_chi1_chi2_indexes = np.vstack((c_alphas,psi_all_arr,phi_all_arr,chi1_all_arr,chi2_all_arr))\n",
    "CA_psi_phi_chi1_chi2_indexes = CA_psi_phi_chi1_chi2_indexes.T\n",
    "np.savetxt(\"1_DIHEDRALS/%s/DIHEDRALS_CA_angles_indexes.dat\" % system_list[input_system],CA_psi_phi_chi1_chi2_indexes,fmt='%s')"
   ]
  },
  {
   "cell_type": "markdown",
   "metadata": {},
   "source": [
    "### 2.7. Computing distributions of dihedrals\n",
    "---\n",
    "\n",
    "From the md.compute_psi, we have an list which is *DIHEDRAL* vs *SNAPSHOT*. We need to calculate for every dihedral a probability distribution. \n",
    "\n",
    "Also when calculating KL, **both distributions should be continuous**. That is, if P(i)=0 or Q(i)=0 then there is no solution. In order to avoid this problem, a negligibly small value is added to any zero-count bins. \n",
    "\n",
    "#### Number of bins \n",
    "\n",
    "The number of bins will depend on the number of snapshots used. \n",
    "\n",
    "For a simulation of 1 $\\mu$s, usually we save around 200k snapshots. Around 300 bins is appropriate for this number of datapoints. In this example, we have 4000 snapshots and so 60 bins are used.\n",
    "\n",
    "If using the script `Scripts/1_dihedral.py`, the number of bins is passed as an argument."
   ]
  },
  {
   "cell_type": "code",
   "execution_count": 18,
   "metadata": {},
   "outputs": [],
   "source": [
    "number_of_bins = 60"
   ]
  },
  {
   "cell_type": "markdown",
   "metadata": {},
   "source": [
    "### PSI"
   ]
  },
  {
   "cell_type": "code",
   "execution_count": 19,
   "metadata": {},
   "outputs": [],
   "source": [
    "for i in xrange(psi_list[1].shape[1]):\n",
    "    dihedral_traj = psi_list[1][:,i]\n",
    "    dihedral_traj_deg = (dihedral_traj * 180) / math.pi\n",
    "    index = np.linspace(1,len(dihedral_traj), len(dihedral_traj)).astype('int')\n",
    "    # Save torsion to output\n",
    "    np.savetxt('1_DIHEDRALS/%s/OUTPUT/PSI/raw_data_psi_%d.dat' % (system_list[input_system],(i+1)),dihedral_traj_deg)\n",
    "    # Histogram\n",
    "    (n, bins) = np.histogram(dihedral_traj_deg, bins=number_of_bins, range=(-180.00, 180.00), normed=True)\n",
    "    bincentre = 0.5*(bins[1:]+bins[:-1])\n",
    "    index = np.linspace(1, len(bincentre), num = len(bincentre), dtype = int)\n",
    "    # Total amount to be split over empty bins only\n",
    "    total_bin_addition = 0.001\n",
    "    all_bins = len(bincentre)\n",
    "    non_zero = np.count_nonzero(n)\n",
    "    zero_bins = all_bins - non_zero\n",
    "    # Adds the bin_addition amount into all zero-count bins\n",
    "    if zero_bins != 0:\n",
    "        bin_addition = total_bin_addition/float(zero_bins)\n",
    "        # Adds the bin_addition amount into all zero-count bins\n",
    "        for j in xrange(len(n)):\n",
    "            if n[j] == 0.0:\n",
    "                n[j] = bin_addition\n",
    "    #normalise\n",
    "    n = n / (sum(n))\n",
    "    data = np.vstack((index, n)).T\n",
    "    np.savetxt('1_DIHEDRALS/%s/OUTPUT/PSI/psi_hist_%d.dat' % (system_list[input_system],(i+1)), data, fmt=['%d', '%.30f'])"
   ]
  },
  {
   "cell_type": "markdown",
   "metadata": {},
   "source": [
    "---\n",
    "#### Torsion number and atom index\n",
    "\n",
    "In order to keep track of which torsional distribution relates to which atoms, a file is output with the torsion number and the atom indices for that torsion."
   ]
  },
  {
   "cell_type": "code",
   "execution_count": 23,
   "metadata": {},
   "outputs": [],
   "source": [
    "index = np.linspace(1,(psi_list[1].shape[1]),num=(psi_list[1].shape[1]))\n",
    "index = index.reshape(len(index),1)\n",
    "psi_atoms_array = np.array(psi_list[0])\n",
    "psi_atoms_array =  np.hstack((index , psi_atoms_array))"
   ]
  },
  {
   "cell_type": "code",
   "execution_count": 24,
   "metadata": {},
   "outputs": [],
   "source": [
    "np.savetxt('1_DIHEDRALS/%s/OUTPUT/PSI/1_psi_indices_list.dat' % system_list[input_system] , psi_atoms_array , fmt='%d')"
   ]
  },
  {
   "cell_type": "markdown",
   "metadata": {},
   "source": [
    "#### Now repeat the same for Phi, Chi1 and Chi2\n",
    "---\n",
    "### PHI"
   ]
  },
  {
   "cell_type": "code",
   "execution_count": 20,
   "metadata": {},
   "outputs": [],
   "source": [
    "for i in xrange(phi_list[1].shape[1]):\n",
    "    dihedral_traj = phi_list[1][:,i]\n",
    "    dihedral_traj_deg = (dihedral_traj * 180) / math.pi\n",
    "    index = np.linspace(1,len(dihedral_traj), len(dihedral_traj)).astype('int')\n",
    "    # Save torsion to output\n",
    "    np.savetxt('1_DIHEDRALS/%s/OUTPUT/PHI/raw_data_phi_%d.dat' % (system_list[input_system],(i+1)),dihedral_traj_deg)\n",
    "    # Histogram\n",
    "    (n, bins) = np.histogram(dihedral_traj_deg, bins=number_of_bins, range = (-180.00, 180.00), normed=True)\n",
    "    bincentre = 0.5*(bins[1:]+bins[:-1])\n",
    "    index = np.linspace(1, len(bincentre), num = len(bincentre), dtype = int)\n",
    "    total_bin_addition = 0.001\n",
    "    all_bins = len(bincentre)\n",
    "    non_zero = np.count_nonzero(n)\n",
    "    zero_bins = all_bins - non_zero\n",
    "    if zero_bins != 0:\n",
    "        bin_addition = total_bin_addition/float(zero_bins)\n",
    "        # Adds the bin_addition amount into all zero-count bins\n",
    "        for j in xrange(len(n)):\n",
    "            if n[j] == 0.0:\n",
    "                n[j] = bin_addition\n",
    "    n = n / (sum(n))\n",
    "    data = np.vstack((index, n)).T\n",
    "    np.savetxt('1_DIHEDRALS/%s/OUTPUT/PHI/phi_hist_%d.dat' % (system_list[input_system],(i+1)), data, fmt=['%d', '%.30f'])\n",
    "\n",
    "\n",
    "index = np.linspace(1,(phi_list[1].shape[1]),num=(phi_list[1].shape[1]))\n",
    "index = index.reshape(len(index),1)\n",
    "phi_atoms_array = np.array(phi_list[0])\n",
    "phi_atoms_array =  np.hstack((index , phi_atoms_array))\n",
    "np.savetxt('1_DIHEDRALS/%s/OUTPUT/PHI/1_phi_indices_list.dat' % system_list[input_system] , phi_atoms_array , fmt='%d')"
   ]
  },
  {
   "cell_type": "markdown",
   "metadata": {},
   "source": [
    "### CHI 1 "
   ]
  },
  {
   "cell_type": "code",
   "execution_count": 21,
   "metadata": {},
   "outputs": [],
   "source": [
    "for i in xrange(chi1_list[1].shape[1]):\n",
    "    dihedral_traj = chi1_list[1][:,i]\n",
    "    dihedral_traj_deg = (dihedral_traj * 180) / math.pi\n",
    "    index = np.linspace(1,len(dihedral_traj), len(dihedral_traj)).astype('int')\n",
    "    # Save torsion to output\n",
    "    np.savetxt('1_DIHEDRALS/%s/OUTPUT/CHI1/raw_data_chi1_%d.dat' % (system_list[input_system],(i+1)),dihedral_traj_deg)\n",
    "    # Histogram\n",
    "    (n, bins) = np.histogram(dihedral_traj_deg, bins=number_of_bins, range = (-180.00, 180.00), normed=True)\n",
    "    bincentre = 0.5*(bins[1:]+bins[:-1])\n",
    "    index = np.linspace(1, len(bincentre), num = len(bincentre), dtype = int)\n",
    "    # Total amount to be split over empty bins only\n",
    "    total_bin_addition = 0.001\n",
    "    all_bins = len(bincentre)\n",
    "    non_zero = np.count_nonzero(n)\n",
    "    zero_bins = all_bins - non_zero\n",
    "    # Adds the bin_addition amount into all zero-count bins\n",
    "    if zero_bins != 0:\n",
    "        bin_addition = total_bin_addition/float(zero_bins)\n",
    "        # Adds the bin_addition amount into all zero-count bins\n",
    "        for j in xrange(len(n)):\n",
    "            if n[j] == 0.0:\n",
    "                n[j] = bin_addition\n",
    "    #normalise\n",
    "    n = n / (sum(n))\n",
    "    data = np.vstack((index, n)).T\n",
    "    np.savetxt('1_DIHEDRALS/%s/OUTPUT/CHI1/chi1_hist_%d.dat' % (system_list[input_system],(i+1)), data, fmt=['%d', '%.30f'])\n",
    "    \n",
    "index = np.linspace(1,(chi1_list[1].shape[1]),num=(chi1_list[1].shape[1]))\n",
    "index = index.reshape(len(index),1)\n",
    "chi1_atoms_array = np.array(chi1_list[0])\n",
    "chi1_atoms_array =  np.hstack((index , chi1_atoms_array))\n",
    "np.savetxt('1_DIHEDRALS/%s/OUTPUT/CHI1/1_chi1_indices_list.dat' % system_list[input_system] , chi1_atoms_array , fmt='%d')"
   ]
  },
  {
   "cell_type": "markdown",
   "metadata": {},
   "source": [
    "### CHI 2"
   ]
  },
  {
   "cell_type": "code",
   "execution_count": 22,
   "metadata": {},
   "outputs": [],
   "source": [
    "for i in xrange(chi2_list[1].shape[1]):\n",
    "    dihedral_traj = chi2_list[1][:,i]\n",
    "    dihedral_traj_deg = (dihedral_traj * 180) / math.pi\n",
    "    index = np.linspace(1,len(dihedral_traj), len(dihedral_traj)).astype('int')\n",
    "    # Save torsion to output\n",
    "    np.savetxt('1_DIHEDRALS/%s/OUTPUT/CHI2/raw_data_chi2_%d.dat' % (system_list[input_system],(i+1)),dihedral_traj_deg)\n",
    "    # Histogram\n",
    "    (n, bins) = np.histogram(dihedral_traj_deg, bins=number_of_bins, range = (-180.00, 180.00), normed=True)\n",
    "    bincentre = 0.5*(bins[1:]+bins[:-1])\n",
    "    index = np.linspace(1, len(bincentre), num = len(bincentre), dtype = int)\n",
    "    # Total amount to be split over empty bins only\n",
    "    total_bin_addition = 0.001\n",
    "    all_bins = len(bincentre)\n",
    "    non_zero = np.count_nonzero(n)\n",
    "    zero_bins = all_bins - non_zero\n",
    "    # Adds the bin_addition amount into all zero-count bins\n",
    "    if zero_bins != 0:\n",
    "        bin_addition = total_bin_addition/float(zero_bins)\n",
    "        # Adds the bin_addition amount into all zero-count bins\n",
    "        for j in xrange(len(n)):\n",
    "            if n[j] == 0.0:\n",
    "                n[j] = bin_addition\n",
    "    #normalise\n",
    "    n = n / (sum(n))\n",
    "    data = np.vstack((index, n)).T\n",
    "    np.savetxt('1_DIHEDRALS/%s/OUTPUT/CHI2/chi2_hist_%d.dat' % (system_list[input_system],(i+1)), data, fmt=['%d', '%.30f'])\n",
    "    \n",
    "index = np.linspace(1,(chi2_list[1].shape[1]),num=(chi2_list[1].shape[1]))\n",
    "index = index.reshape(len(index),1)\n",
    "chi2_atoms_array = np.array(chi2_list[0])\n",
    "chi2_atoms_array =  np.hstack((index , chi2_atoms_array))\n",
    "np.savetxt('1_DIHEDRALS/%s/OUTPUT/CHI2/1_chi2_indices_list.dat'% system_list[input_system] , chi2_atoms_array , fmt='%d')"
   ]
  },
  {
   "cell_type": "markdown",
   "metadata": {},
   "source": [
    "### 2.8. If the first system has now run: Restart to compute second system\n",
    "----------\n",
    "\n",
    "#### To restart the session after running 0_system_A, use the drop down menu at the top: \n",
    "\n",
    "  --> `Kernel` --> `Restart and clear output`\n",
    "\n",
    "Then change `input_system = 1` in **section 2.1** and rerun all cells up to here, for the second system. \n",
    "\n",
    "Only restart after running `0_system_A`. Do not restart once you have run `1_system_B`. \n",
    "\n",
    "----------\n",
    "\n",
    "### 2.9. If you have now run both system A and B: move on to Step 3 of the workflow below \n",
    "\n",
    "-----------\n",
    "\n",
    "-----------\n",
    "\n",
    "\n",
    "### <span style=\"color:LightSlateGray\">*To run as a script instead of in the notebook:* </span>\n",
    " <span style=\"color:LightSlateGray\"> To run this for several systems, use the bash script `Scripts/1_dihedral_many_systems.sh` with `Scripts/1_dihedral.py`. \n",
    "First alter `1_dihedral.py`: system_list, filename_list, topology_filename and md_data.\n",
    "Then run `1_dihedral_many_systems.sh` with 2 arguments: The number of systems and the number of bins to histogram the data. </span>\n",
    "\n",
    "-----------\n",
    "\n",
    "-----------\n"
   ]
  },
  {
   "cell_type": "markdown",
   "metadata": {},
   "source": [
    "\n",
    "\n",
    "# <span style=\"color:teal\"> Step 3 of the workflow: </span>\n",
    "## <span style=\"color:teal\"> Calculating KL between two systems </span>\n",
    "---\n",
    "\n",
    "---\n"
   ]
  },
  {
   "cell_type": "markdown",
   "metadata": {},
   "source": [
    "A bash script will now loop thorugh all of the output files for the two systems which we created with 1_Dihedral.py and calculate the KL value. \n",
    "\n",
    "We run this script with several arguments. In the next cell, we print `number_angles_array` which gives how many psi, phi, chi1 and chi2 there are in the system. There is also a file saved in the folder 1_DIHEDRALS/**number_angles.dat** with this information.\n",
    "\n",
    "In the cells below we can run this directly from the notebook. \n",
    "\n",
    "### <span style=\"color:LightSlateGray\">*To run as a script instead of in the notebook:* </span>\n",
    "\n",
    "` $ bash 2_run_all_KL.sh systemA_folder_name systemB_folder_name number_psi_angles number_phi_angles number_chi1_angles number_chi2_angles`\n",
    "\n",
    "e.g. `bash ../Scripts/2_run_all_KL.sh 0_system_A 1_system_B 285 285 252 204` "
   ]
  },
  {
   "cell_type": "markdown",
   "metadata": {},
   "source": [
    "### 3.1. Print the number of angles for each torsion\n",
    "---"
   ]
  },
  {
   "cell_type": "code",
   "execution_count": null,
   "metadata": {},
   "outputs": [],
   "source": [
    "print (number_angles_array)"
   ]
  },
  {
   "cell_type": "markdown",
   "metadata": {},
   "source": [
    "\n",
    "### 3.2. Run the bash script to calculate the KL between the two systems \n",
    "---\n",
    "First, change directory to 1_DIHEDRALS as all output will be processed and saved in this folder."
   ]
  },
  {
   "cell_type": "markdown",
   "metadata": {},
   "source": [
    "#### Move to the folder `1_DIHEDRALS` :"
   ]
  },
  {
   "cell_type": "code",
   "execution_count": null,
   "metadata": {},
   "outputs": [],
   "source": [
    "cd 1_DIHEDRALS"
   ]
  },
  {
   "cell_type": "code",
   "execution_count": null,
   "metadata": {},
   "outputs": [],
   "source": [
    "# This may take a few minutes!\n",
    "!bash ../Scripts/2_run_all_KL.sh 0_system_A 1_system_B 285 285 252 204"
   ]
  },
  {
   "cell_type": "markdown",
   "metadata": {},
   "source": [
    "### 3.3.  Collect KL values and assign them to the correct residue\n",
    "---\n",
    "\n",
    "For each of the calculations for Psi, Phi, Chi1 and Chi2, we saved a file with the C$\\alpha$ index and the torsion number, to later assign each to the correct residue. \n",
    "\n",
    "To do this, the script `Scripts/5_combining_psi_phi_chi.py` is used, and can be run from the cells below. This should be run from the folder `1_DIHEDRALS`. \n",
    "\n",
    "This will output a file with the number of the residue in the first column, the number of the C$\\alpha$ atom in the second column, and the remaining 4 columns are the KL value for the Psi, Phi, Chi1 and Chi2 torsions respectively. \n",
    "\n",
    "From 2.6, we should already have the file\n",
    "`DIHEDRALS_CA_angles_indexes.dat`, which looks like this:\n",
    "\n",
    "| CA index | PSI | PHI | CHI1 | CHI2 |\n",
    "| :--- | :-: | :-: | :--: | :--: |\n",
    "| 8 | 0| 0 | 0 | 0| \n",
    "| 32 | 1 | 1 | 1 | 1| \n",
    "| 54 | 2 | 2 | 2 | 2| \n",
    "| 76 | 3 | 3 | 3 | 3| \n",
    "\n",
    "<br><br>\n",
    "\n",
    "And then running `Scripts/5_combining_psi_phi_chi.py` will output \n",
    "`KL_residue_caindex_psi_phi_chi_chi.dat`, which looks like this: \n",
    "\n",
    "|Residue number | CA index | PSI KL | PHI KL | CHI1 KL | CHI2 KL |\n",
    "| :--- | :-: | :-: | :--: | :--: |:--: |\n",
    "| 1 | 8 | 0.013591 | 0.004713 | 0.014678 | 0.036920\n",
    "| 2 | 32 | 0.011217 | 0.030264 | 0.022233 | 0.012993\n",
    "| 3 | 54 | 0.077490 | 0.010198 | 0.067854 | 0.056849\n",
    "| 4 | 76 | 0.023213 | 0.007356 | 0.198231 | 0.125124\n",
    "\n",
    "<br><br>\n",
    "\n",
    "**This script also outputs several other files:**\n",
    "\n",
    "Each is a list of the KL of that torsion, for each residue. \n",
    "\n",
    "* KL_psi.dat\n",
    "\n",
    "* KL_phi.dat\n",
    "\n",
    "* KL_chi1.dat\n",
    "\n",
    "* KL_chi2.dat\n",
    "\n",
    "\n",
    "Also a file which sums the KL for *Phi+Psi* as \"backbone\"; and *Chi1+Chi2* as \"sidechain\".\n",
    "\n",
    "* KL_backbone.dat\n",
    "\n",
    "* KL_sidechain.dat\n",
    "\n",
    "\n",
    "### <span style=\"color:LightSlateGray\">*To run as a script instead of in the notebook:* </span>\n",
    "\n",
    "`python script.py KL-output-directory`\n",
    "\n",
    "<span style=\"color:LightSlateGray\"> e.g.</span>\n",
    "\n",
    "`python 5_combining_psi_phi_chi.py KL_OUTPUT/0_system_A_1_system_B`"
   ]
  },
  {
   "cell_type": "markdown",
   "metadata": {},
   "source": [
    "---\n",
    "\n",
    "As mentioned before, it is sensible to check that the output from the two systems is the same (to check for any errors with different topology, for example). \n",
    "\n",
    "`$ vimdiff 1_DIHEDRALS/0_system_A/DIHEDRALS_CA_angles_indexes.dat 1_DIHEDRALS/1_system_B/DIHEDRALS_CA_angles_indexes.dat`\n",
    "\n",
    "If they are identical, copy one of these to the folder 1_DIHEDRALS:"
   ]
  },
  {
   "cell_type": "code",
   "execution_count": null,
   "metadata": {},
   "outputs": [],
   "source": [
    "cp 0_system_A/DIHEDRALS_CA_angles_indexes.dat ."
   ]
  },
  {
   "cell_type": "markdown",
   "metadata": {},
   "source": [
    "\n",
    "\n",
    "\n",
    "------\n",
    "\n",
    "The KL calculation will have output values in a folder named: `1_DIHEDRALS/KL_OUTPUT/0_system_A_1_system_B`\n",
    "\n",
    "To combine all the KL values, run the script in the cell below, `5_combining_psi_phi_chi.py`, with one argument which is the folder containing the KL output. \n",
    "\n",
    "---\n"
   ]
  },
  {
   "cell_type": "code",
   "execution_count": null,
   "metadata": {},
   "outputs": [],
   "source": [
    "!python ../Scripts/5_combining_psi_phi_chi.py KL_OUTPUT/0_system_A_1_system_B"
   ]
  },
  {
   "cell_type": "markdown",
   "metadata": {},
   "source": [
    "\n",
    "So now we have a file with the residue number, the CA index and the corresponding KL values for each torsion; and other files where we group together the KL for the backbone torsions and the sidechain torsions separately. \n",
    "\n",
    "------\n",
    "\n",
    "------\n"
   ]
  },
  {
   "cell_type": "markdown",
   "metadata": {},
   "source": [
    "# <span style=\"color:teal\"> Step 4 of the workflow: </span>\n",
    "## <span style=\"color:teal\"> Visualising the output of the KL calculation </span>\n",
    "\n",
    "---\n",
    "\n",
    "---"
   ]
  },
  {
   "cell_type": "markdown",
   "metadata": {},
   "source": [
    "\n",
    "\n",
    "Normally we visualise the KL caldulation by inputting these backbone and sidechain KL values into the b-factor column of a pdb, which can then be colour coded in pymol to show the high-KL regions. \n",
    "\n",
    "Plotting the KL values of sidechain and backbone against the residue number (below), shows that the higher values for the backbone and sidechain tend to be for different residues. So it is useful to plot in pymol the sidechain and backbone separately. \n",
    "\n",
    "---\n",
    "\n"
   ]
  },
  {
   "cell_type": "code",
   "execution_count": null,
   "metadata": {},
   "outputs": [],
   "source": [
    "backbone = np.loadtxt(\"KL_backbone.dat\")\n",
    "sidechain = np.loadtxt(\"KL_sidechain.dat\")\n",
    "\n",
    "plt.plot(backbone,label=\"backbone\")\n",
    "plt.plot(sidechain,label=\"sidechain\")\n",
    "plt.xlabel(\"Residue number\")\n",
    "plt.ylabel(\"KL divergence\")\n",
    "plt.legend()"
   ]
  },
  {
   "cell_type": "markdown",
   "metadata": {},
   "source": [
    "\n",
    "### 4.1 Loading the KL values into a pymol session\n",
    "---\n",
    "\n",
    "Open a terminal window and go to the folder `1_DIHEDRALS`\n",
    "\n",
    "From here, run the pymol script `../Scripts/6_pymol_all_dihed.pml`\n"
   ]
  },
  {
   "cell_type": "markdown",
   "metadata": {},
   "source": [
    "<img src=\"z_images/running_pymol_session.png\" width=\"800\">"
   ]
  },
  {
   "cell_type": "markdown",
   "metadata": {},
   "source": [
    "\n",
    "\n",
    "This should launch a pymol session, loading the pdb structure from one system, and creating a few separate objects: One with the KL for the backbone torsions and another for the KL for the sidechain. The Psi, Phi, Chi1 and Chi2.\n",
    "\n",
    "These are colour scaled individually: Since high KL values for each may not be similar size it can be useful to look at them separately. If you want to scale the colour plot to the same values for both backbone and sidechain, this can be done by altering pymol_all_dihed.pml (there is a section commented out that can be changed on line 30). \n",
    "\n",
    "\n",
    "\n",
    "A pymol session is then saved as **\"Dihedral_KL.pse\"**.\n",
    "\n",
    "The output should look similar to below. Highest KL regions are red, and lowest are white. On the right, you can switch between backbone, sidechain, or individual torsions. "
   ]
  },
  {
   "cell_type": "markdown",
   "metadata": {
    "collapsed": true
   },
   "source": [
    "<img src=\"z_images/pymol_session_Dihedrals.png\">"
   ]
  },
  {
   "cell_type": "code",
   "execution_count": null,
   "metadata": {},
   "outputs": [],
   "source": []
  }
 ],
 "metadata": {
  "celltoolbar": "Raw Cell Format",
  "kernelspec": {
   "display_name": "Python 2",
   "language": "python",
   "name": "python2"
  },
  "language_info": {
   "codemirror_mode": {
    "name": "ipython",
    "version": 2
   },
   "file_extension": ".py",
   "mimetype": "text/x-python",
   "name": "python",
   "nbconvert_exporter": "python",
   "pygments_lexer": "ipython2",
   "version": "2.7.14"
  }
 },
 "nbformat": 4,
 "nbformat_minor": 1
}
