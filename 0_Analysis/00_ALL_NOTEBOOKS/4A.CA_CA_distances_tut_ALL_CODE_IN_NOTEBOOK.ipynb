{
 "cells": [
  {
   "cell_type": "markdown",
   "metadata": {},
   "source": [
    "# C$\\alpha$ - C$\\alpha$ distance Kullback-Leibler (KL) divergence\n",
    "----\n",
    "\n",
    "----\n",
    "## Introduction \n",
    "\n",
    "-------"
   ]
  },
  {
   "cell_type": "markdown",
   "metadata": {},
   "source": [
    "\n",
    "\n",
    "### <span style=\"color:DarkRed\"> Some details on trajectory/topology input\n",
    "    \n",
    "\n",
    "\n",
    "-------\n",
    "\n",
    "#### Topology format\n",
    "\n",
    "For this tutorial, we will load the trajectory as a .dcd file, using a pdb as the topology. \n",
    "\n",
    "*Rename chain ID*\n",
    "\n",
    "If the system has multiple chains, the script will only compute distances *within* each chain, if the chain IDs are different (e.g. Chain A, Chain B, Chain C)\n",
    "\n",
    "We need to rename all the chains with the same chain ID, which we can do with pymol. \n",
    "\n",
    "*Renumber residues*\n",
    "\n",
    "It is also useful to ensure the residues are all numbered differently. For example you might have: \n",
    "\n",
    "* Chain A: residues 1-100\n",
    "\n",
    "\n",
    "* Chain B: residues 1-100\n",
    "\n",
    "\n",
    "* Chain C: residues 1-100\n",
    "\n",
    "\n",
    "**Instead we want the labels to look like: **\n",
    "\n",
    "* Chain A: residues 1-300\n",
    "\n",
    "\n",
    "----\n",
    "\n",
    "To chain chain ID: \n",
    "\n",
    "**Script to do below steps:**   `Scripts/Alter_chain_id.pml`\n",
    "\n",
    "Open pymol and set retain_order and pdb_retain_ids: \n",
    "\n",
    "**`PyMOL>set retain_order, 1`**\n",
    "\n",
    "**`PyMOL>set pdb_retain_ids, 1`**\n",
    "\n",
    "then: \n",
    "\n",
    "**`PyMOL>alter all, chain='A'`**\n",
    "\n",
    "Then save a pdb. \n",
    "\n",
    "-----\n",
    "\n",
    "To renumber chain: \n",
    "\n",
    "Can use pymol script to [renumber](https://raw.githubusercontent.com/Pymol-Scripts/Pymol-script-repo/master/renumber.py) residues: `Scripts/renumber.py`\n",
    "\n",
    "Open pymol and run the script. Then:\n",
    "\n",
    "**`PyMOL>renumber chain A, 1`**\n",
    "\n",
    "`Renumber: range (1 to 200)`\n",
    "    \n",
    "\n"
   ]
  },
  {
   "cell_type": "markdown",
   "metadata": {},
   "source": [
    "### <span style=\"color:DarkRed\"> Overall workflow\n",
    "\n",
    "-----------\n",
    "\n",
    "To summarise the overall workflow:\n",
    "\n",
    "1. Run simulations. \n",
    "\n",
    "2. Calculate distributions all CA - CA distances for 2 or more systems.\n",
    "\n",
    "3. Compute KL between the different systems. \n",
    "\n",
    "4. Plot the highest KL distances onto the structure in pymol, colour coded to show the range of KL. "
   ]
  },
  {
   "cell_type": "markdown",
   "metadata": {},
   "source": [
    "#### PART 1\n",
    "\n",
    "Make separate script"
   ]
  },
  {
   "cell_type": "code",
   "execution_count": null,
   "metadata": {},
   "outputs": [],
   "source": [
    "# coding: utf-8\n",
    "import scipy as sp\n",
    "#from scipy import stats\n",
    "import numpy as np\n",
    "import matplotlib.pyplot as plt\n",
    "import mdtraj as md\n",
    "import sys\n",
    "from sys import argv\n",
    "import math\n",
    "import os\n",
    "get_ipython().magic(u'pylab inline')"
   ]
  },
  {
   "cell_type": "code",
   "execution_count": null,
   "metadata": {},
   "outputs": [],
   "source": [
    "input_system = 0"
   ]
  },
  {
   "cell_type": "code",
   "execution_count": null,
   "metadata": {},
   "outputs": [],
   "source": [
    "# system_list with folder names of different systems. \n",
    "system_list = [\"0_system_A\",\"1_system_B\"]\n",
    "# Input one or more trajectory names into filname list. \n",
    "filename_list = [\"short_traj_aligned.dcd\"]\n",
    "\n",
    "topology_filename = \"first_frame.pdb\"\n",
    "\n",
    "md_data = [\"0_TRAJECTORIES\"]\n",
    "\n",
    "filename_list_1_traj = []\n",
    "filename_list_1_pdb = []\n",
    "\n",
    "# Make a list with all file locations of trajectory data\n",
    "all_files_list = []\n",
    "\n",
    "for i in range(0,len(system_list)):\n",
    "    for j in range(0,len(filename_list)):\n",
    "        filename_traj = \"%s/%s/%s\" % (md_data[0],system_list[i],filename_list[j])\n",
    "        filename_list_1_traj.append(filename_traj)\n",
    "        filename_pdb = \"%s/%s/%s\" % (md_data[0],system_list[i],topology_filename)\n",
    "        filename_list_1_pdb.append(filename_pdb)\n"
   ]
  },
  {
   "cell_type": "code",
   "execution_count": null,
   "metadata": {},
   "outputs": [],
   "source": [
    "# Make a list of lists to separate file locations for each simulation.\n",
    "input_files = []\n",
    "for i in range(0,len(system_list)):\n",
    "    inside_list = []\n",
    "    for j in range(0,len(filename_list)):\n",
    "        filenames = \"%s/%s/%s\" % (md_data[0],system_list[i],filename_list[j])\n",
    "        inside_list.append(filenames)\n",
    "    input_files.append(inside_list)\n",
    "print (input_files)"
   ]
  },
  {
   "cell_type": "code",
   "execution_count": null,
   "metadata": {},
   "outputs": [],
   "source": [
    "for i in system_list:\n",
    "    if not os.path.exists(\"4_CA_DISTANCES/%s/OUTPUT/CA_dist\" % i):\n",
    "        filename = \"4_CA_DISTANCES/%s/OUTPUT/CA_dist\" % i\n",
    "        cmd = \"mkdir -p %s\" % filename\n",
    "        os.system(cmd)\n",
    "        \n",
    "for i in system_list:\n",
    "    if not os.path.exists(\"4_CA_DISTANCES/%s/OUTPUT/CA_raw_data\" % i):\n",
    "        filename = \"4_CA_DISTANCES/%s/OUTPUT/CA_raw_data\" % i\n",
    "        cmd = \"mkdir -p %s\" % filename\n",
    "        os.system(cmd)"
   ]
  },
  {
   "cell_type": "code",
   "execution_count": null,
   "metadata": {},
   "outputs": [],
   "source": [
    "print input_files[input_system]"
   ]
  },
  {
   "cell_type": "code",
   "execution_count": null,
   "metadata": {
    "scrolled": true
   },
   "outputs": [],
   "source": [
    "print filename_list_1_traj \n",
    "print filename_list_1_pdb "
   ]
  },
  {
   "cell_type": "code",
   "execution_count": null,
   "metadata": {},
   "outputs": [],
   "source": [
    "outfile = \"4_CA_DISTANCES/%s/OUTPUT\" % system_list[input_system]\n",
    "traj_input = filename_list_1_traj[input_system]\n",
    "pdb_input = filename_list_1_pdb[input_system]\n",
    "print outfile\n",
    "print traj_input\n",
    "print pdb_input"
   ]
  },
  {
   "cell_type": "code",
   "execution_count": null,
   "metadata": {},
   "outputs": [],
   "source": [
    "test = md.load_pdb(pdb_input)\n",
    "top = test.topology"
   ]
  },
  {
   "cell_type": "code",
   "execution_count": null,
   "metadata": {},
   "outputs": [],
   "source": [
    "print top"
   ]
  },
  {
   "cell_type": "code",
   "execution_count": null,
   "metadata": {},
   "outputs": [],
   "source": [
    "traj = md.load_dcd(traj_input,top=pdb_input)"
   ]
  },
  {
   "cell_type": "code",
   "execution_count": null,
   "metadata": {},
   "outputs": [],
   "source": [
    "print traj"
   ]
  },
  {
   "cell_type": "code",
   "execution_count": null,
   "metadata": {},
   "outputs": [],
   "source": [
    "CA_contacts = md.compute_contacts(traj, contacts='all', scheme=\"ca\")"
   ]
  },
  {
   "cell_type": "markdown",
   "metadata": {},
   "source": [
    "contacts : array-like, ndim=2 or ‘all’\n",
    "\n",
    "An array containing pairs of indices (0-indexed) of residues to compute the contacts between, or ‘all’. The string ‘all’ will select all pairs of residues separated by two or more residues (i.e. the i to i+1 and i to i+2 pairs will be excluded).\n",
    "\n",
    ">To compute the contact distance between residue 0 and 10 and\n",
    ">residues 0 and 11\n",
    ">md.compute_contacts(t, [[0, 10], [0, 11]])\n",
    "\n",
    ">> the itertools library can be useful to generate the arrays of indices\n",
    "\n",
    ">> `group_1 = [0, 1, 2]`\n",
    "\n",
    ">> `group_2 = [10, 11]`\n",
    "\n",
    ">> `pairs = list(itertools.product(group_1, group_2))`\n",
    "\n",
    ">> `print(pairs)`\n",
    "\n",
    ">> `[(0, 10), (0, 11), (1, 10), (1, 11), (2, 10), (2, 11)]`\n",
    "\n",
    ">> `md.compute_contacts(t, pairs)`\n",
    "\n"
   ]
  },
  {
   "cell_type": "code",
   "execution_count": null,
   "metadata": {},
   "outputs": [],
   "source": [
    "# CA_contacts[0] is a distance per snapshot for atom pair i \n",
    "# CA_contacts[1] is 2 atom indices involved in atom pair i"
   ]
  },
  {
   "cell_type": "code",
   "execution_count": null,
   "metadata": {},
   "outputs": [],
   "source": [
    "distance_per_snapshot = CA_contacts[0]\n",
    "indices_per_snapshot = CA_contacts[1]"
   ]
  },
  {
   "cell_type": "code",
   "execution_count": null,
   "metadata": {},
   "outputs": [],
   "source": [
    "print indices_per_snapshot.T\n",
    "print distance_per_snapshot\n",
    "# So atom pairs e.g. 0-3 and column below is the value over all snapshots"
   ]
  },
  {
   "cell_type": "code",
   "execution_count": null,
   "metadata": {},
   "outputs": [],
   "source": [
    "pair_1_distance = CA_contacts[0][:,0]\n",
    "pair_1_atoms = CA_contacts[1][0]"
   ]
  },
  {
   "cell_type": "code",
   "execution_count": null,
   "metadata": {},
   "outputs": [],
   "source": [
    "print pair_1_distance\n",
    "print len(pair_1_distance)\n",
    "print pair_1_atoms\n",
    "print len(pair_1_atoms)"
   ]
  },
  {
   "cell_type": "code",
   "execution_count": null,
   "metadata": {},
   "outputs": [],
   "source": [
    "print outfile"
   ]
  },
  {
   "cell_type": "code",
   "execution_count": null,
   "metadata": {},
   "outputs": [],
   "source": [
    "print distance_per_snapshot.shape"
   ]
  },
  {
   "cell_type": "code",
   "execution_count": null,
   "metadata": {},
   "outputs": [],
   "source": [
    "# Output files with all atom pairs, and with all distances vs all snapshots\n",
    "\n",
    "np.savetxt(\"%s/ALL_atom_pairs.dat\" % outfile , CA_contacts[1], fmt='%s')\n",
    "#np.savetxt(\"%s/ALL_distances_per_snapshot.dat\" % outfile, distance_per_snapshot, fmt='%.20f')"
   ]
  },
  {
   "cell_type": "code",
   "execution_count": null,
   "metadata": {},
   "outputs": [],
   "source": [
    "min_list = []\n",
    "max_list = []\n",
    "for i in range(0,len(distance_per_snapshot[:][0])):\n",
    "    min_list.append(min(distance_per_snapshot[:,i]))\n",
    "    max_list.append(max(distance_per_snapshot[:,i]))\n",
    "#print \"min value: \",  min(min_list)\n",
    "#print \"max value: \" , max(max_list)"
   ]
  },
  {
   "cell_type": "code",
   "execution_count": null,
   "metadata": {},
   "outputs": [],
   "source": [
    "min_array = np.array(min_list)\n",
    "max_array = np.array(max_list)\n",
    "min_max_array = np.vstack((min_list,max_list)).T"
   ]
  },
  {
   "cell_type": "code",
   "execution_count": null,
   "metadata": {},
   "outputs": [],
   "source": [
    "min_max_array_angstrom = min_max_array * 10\n",
    "np.savetxt(\"%s/min_max_rawdata.dat\" % outfile,min_max_array_angstrom)"
   ]
  },
  {
   "cell_type": "markdown",
   "metadata": {},
   "source": [
    "### Bin range\n",
    "\n",
    "Run the script up to here for each case in order to output bin ranges for each distance. \n",
    "\n",
    "### After running system 1 - restart the kernal and run system 2. \n",
    "\n",
    "\n",
    "For the KL calculation, we need to have the same bin range for each distance - so must determine the correct range to use for each before saving the distributions"
   ]
  },
  {
   "cell_type": "markdown",
   "metadata": {},
   "source": [
    "#### PART2 \n",
    "\n",
    "Make this a separate script\n"
   ]
  },
  {
   "cell_type": "code",
   "execution_count": null,
   "metadata": {},
   "outputs": [],
   "source": [
    "_0_system_A_min_max = np.loadtxt(\"4_CA_DISTANCES/0_system_A/OUTPUT/min_max_rawdata.dat\")\n",
    "_1_system_B_min_max = np.loadtxt(\"4_CA_DISTANCES/1_system_B/OUTPUT/min_max_rawdata.dat\")"
   ]
  },
  {
   "cell_type": "code",
   "execution_count": null,
   "metadata": {},
   "outputs": [],
   "source": [
    "min_col_sys_A = _0_system_A_min_max[:,0]\n",
    "max_col_sys_A = _0_system_A_min_max[:,1]\n",
    "\n",
    "min_col_sys_B = _1_system_B_min_max[:,0]\n",
    "max_col_sys_B = _1_system_B_min_max[:,1]"
   ]
  },
  {
   "cell_type": "code",
   "execution_count": null,
   "metadata": {},
   "outputs": [],
   "source": [
    "MIN_cols = np.vstack((min_col_sys_A,min_col_sys_B)).T"
   ]
  },
  {
   "cell_type": "code",
   "execution_count": null,
   "metadata": {},
   "outputs": [],
   "source": [
    "MAX_cols = np.vstack((max_col_sys_A,max_col_sys_B)).T"
   ]
  },
  {
   "cell_type": "code",
   "execution_count": null,
   "metadata": {},
   "outputs": [],
   "source": [
    "global_mins = []\n",
    "for i in MIN_cols:\n",
    "    if i[0] < i[1]:\n",
    "        global_mins.append(i[0])\n",
    "    else: \n",
    "        global_mins.append(i[1])\n",
    "        \n",
    "global_maxs = []\n",
    "for i in MAX_cols:\n",
    "    if i[0] > i[1]:\n",
    "        global_maxs.append(i[0])\n",
    "    else: \n",
    "        global_maxs.append(i[1])"
   ]
  },
  {
   "cell_type": "code",
   "execution_count": null,
   "metadata": {},
   "outputs": [],
   "source": [
    "#global_mins = np.array(global_mins)\n",
    "#global_maxs = np.array(global_maxs)"
   ]
  },
  {
   "cell_type": "code",
   "execution_count": null,
   "metadata": {},
   "outputs": [],
   "source": [
    "global_mins_int = []\n",
    "for i in range(0,len(global_mins)):\n",
    "    global_mins_int.append(int(global_mins[i]))\n",
    "global_mins_arr = np.array(global_mins_int).clip(min=0)\n",
    "#global_mins_arr = global_mins_arr.clip(min=0)\n",
    "\n",
    "global_maxs_int = []\n",
    "for i in range(0,len(global_maxs)):\n",
    "    global_maxs_int.append(int(global_maxs[i]))\n",
    "global_maxs_arr = np.array(global_maxs_int).clip(min=0)\n",
    "#global_maxs_arr = global_maxs_arr.clip(min=0)"
   ]
  },
  {
   "cell_type": "code",
   "execution_count": null,
   "metadata": {},
   "outputs": [],
   "source": [
    "col1 = (global_mins_arr - 3).clip(min=0)\n",
    "col2 = (global_maxs_arr + 3).clip(min=0)\n",
    "min_max_arr_margin_int = np.vstack((col1,col2)).T"
   ]
  },
  {
   "cell_type": "code",
   "execution_count": null,
   "metadata": {},
   "outputs": [],
   "source": [
    "np.savetxt(\"4_CA_DISTANCES/global_min_max_array.dat\" % outfile,min_max_arr_margin_int,fmt='%d')"
   ]
  },
  {
   "cell_type": "markdown",
   "metadata": {},
   "source": [
    "### make a new script with PART 1 and PART3\n",
    "PART3"
   ]
  },
  {
   "cell_type": "code",
   "execution_count": null,
   "metadata": {},
   "outputs": [],
   "source": [
    "min_max_arr_margin_int  = np.loadtxt(\"4_CA_DISTANCES/global_min_max_array.dat\")"
   ]
  },
  {
   "cell_type": "code",
   "execution_count": null,
   "metadata": {},
   "outputs": [],
   "source": [
    "MINBIN = min_max_arr_margin_int[:,0]\n",
    "MAXBIN = min_max_arr_margin_int[:,1]"
   ]
  },
  {
   "cell_type": "code",
   "execution_count": null,
   "metadata": {},
   "outputs": [],
   "source": [
    "print input_system"
   ]
  },
  {
   "cell_type": "code",
   "execution_count": null,
   "metadata": {},
   "outputs": [],
   "source": [
    "for i in range(0,len(distance_per_snapshot[0,:])):\n",
    "    dist_angstrom = distance_per_snapshot[:,i] * 10\n",
    "    # load bin ranges from min_max file\n",
    "    min_bin = MINBIN[i]\n",
    "    max_bin = MAXBIN[i]\n",
    "    #np.savetxt(\"%s/CA_raw_data/distance_%s_raw_data.dat\" % (outfile,i) , distance_per_snapshot[:,i], fmt=['%.20f'])\n",
    "    (n, bins) = np.histogram(dist_angstrom, bins = 100, range = (min_bin, max_bin), normed=True)\n",
    "    n = n / (sum(n))\n",
    "    bincentre = 0.5*(bins[1:]+bins[:-1])\n",
    "    index = np.linspace(1, len(bincentre), num = len(bincentre), dtype = int)\n",
    "    total_bin_addition = 0.000001\n",
    "    all_bins = len(bincentre)\n",
    "    non_zero = np.count_nonzero(n)\n",
    "    zero_bins = all_bins - non_zero\n",
    "    if zero_bins != 0:\n",
    "        bin_addition = total_bin_addition/float(zero_bins)\n",
    "        # Adds the bin_addition amount into all zero-count bins\n",
    "        for j in xrange(len(n)):\n",
    "            if n[j] == 0.0:\n",
    "                n[j] = bin_addition\n",
    "    data = np.vstack((index,n)).T\n",
    "    np.savetxt(\"%s/CA_dist/distance_%s_distribution.dat\" % (outfile,i) , data, fmt=['%d','%.20f'])        "
   ]
  },
  {
   "cell_type": "markdown",
   "metadata": {},
   "source": [
    "-----\n",
    "\n",
    "-----\n",
    "\n",
    "### If the first system has now run: Restart to compute second system\n",
    "----------\n",
    "\n",
    "#### To restart the session after running 0_system_A, use the drop down menu at the top: \n",
    "\n",
    "  --> `Kernel` --> `Restart and clear output`\n",
    "\n",
    "Then change `input_system = 1` and rerun all cells up to here, for the second system. \n",
    "\n",
    "-----\n",
    "\n",
    "-----\n"
   ]
  },
  {
   "cell_type": "markdown",
   "metadata": {},
   "source": [
    "### Calculating KL between two systems \n",
    "\n",
    "Once we have run the script above for the two different systems, we can do the KL calculation. \n",
    "\n",
    "In the folders `4_CA_DISTANCES/0_system_A/OUTPUT/CA_dist` and `4_CA_DISTANCES/1_system_B/OUTPUT/CA_dist`  we have a distribution for every CA distance for each case. \n",
    "\n",
    "We should also have files `4_CA_DISTANCES/0_system_A/OUTPUT/ALL_atom_pairs.dat` and `4_CA_DISTANCES/1_system_B/OUTPUT/ALL_atom_pairs.dat` which have the atom indices for each system's output.\n",
    "\n",
    "Check that each output has the same atom indices:\n",
    "\n",
    "`$ vimdiff 4_CA_DISTANCES/0_system_A/OUTPUT/ALL_atom_pairs.dat 4_CA_DISTANCES/1_system_B/OUTPUT/ALL_atom_pairs.dat`"
   ]
  },
  {
   "cell_type": "markdown",
   "metadata": {},
   "source": [
    "----------\n",
    "\n",
    "In the folder `Scripts`, there is a script `7.0_script_run_CACOOR_KL.sh`. \n",
    "\n",
    "Run this, with the number of distances for this system as the argument, as follows:"
   ]
  },
  {
   "cell_type": "code",
   "execution_count": null,
   "metadata": {},
   "outputs": [],
   "source": [
    "number_of_distances = distance_per_snapshot[1].shape\n",
    "print number_of_distances"
   ]
  },
  {
   "cell_type": "code",
   "execution_count": null,
   "metadata": {},
   "outputs": [],
   "source": [
    "cd 4_CA_DISTANCES/"
   ]
  },
  {
   "cell_type": "code",
   "execution_count": null,
   "metadata": {},
   "outputs": [],
   "source": [
    "!bash ../Scripts/10_CA_KL.sh 0_system_A 1_system_B 39903"
   ]
  },
  {
   "cell_type": "code",
   "execution_count": null,
   "metadata": {},
   "outputs": [],
   "source": [
    "print (CA_contacts[1][:,1])"
   ]
  },
  {
   "cell_type": "code",
   "execution_count": null,
   "metadata": {},
   "outputs": [],
   "source": [
    "#col1 and col2 are the two columns of RESIDUE numbers - which make each pair\n",
    "# Want to make the same array but with atom numbers of CA atoms\n",
    "\n",
    "column1 = CA_contacts[1][:,0]\n",
    "column2 = CA_contacts[1][:,1]\n",
    "\n",
    "column_1_atom_num = []\n",
    "column_2_atom_num = []\n",
    "\n",
    "for i in column1:\n",
    "    column_1_atom_num.append(int(top.select(\"name CA and resid %s\"%i)))\n",
    "\n",
    "for i in column2:\n",
    "    column_2_atom_num.append(int(top.select(\"name CA and resid %s\"%i)))\n",
    "\n",
    "column_1_atom_array = np.array(column_1_atom_num)\n",
    "column_2_atom_array = np.array(column_2_atom_num)\n",
    "\n",
    "atom_number_pair_array = np.vstack((column_1_atom_array,column_2_atom_array)).T"
   ]
  },
  {
   "cell_type": "code",
   "execution_count": null,
   "metadata": {},
   "outputs": [],
   "source": [
    "print atom_number_pair_array"
   ]
  },
  {
   "cell_type": "code",
   "execution_count": null,
   "metadata": {},
   "outputs": [],
   "source": [
    "print top.atom(2)"
   ]
  },
  {
   "cell_type": "code",
   "execution_count": null,
   "metadata": {},
   "outputs": [],
   "source": [
    "print (\"CA_contacts[1] is all the pairs of residue numbers: \")\n",
    "print (CA_contacts[1])\n",
    "print (\"atom_number_pair_array is all the pairs of CA atom indices\")\n",
    "print (atom_number_pair_array) "
   ]
  },
  {
   "cell_type": "code",
   "execution_count": null,
   "metadata": {},
   "outputs": [],
   "source": [
    "print outfile"
   ]
  },
  {
   "cell_type": "code",
   "execution_count": null,
   "metadata": {},
   "outputs": [],
   "source": [
    "np.savetxt(\"%s/atom_pairs_ATOM_NUMBERS.dat\" % outfile, atom_number_pair_array, fmt='%s')"
   ]
  },
  {
   "cell_type": "code",
   "execution_count": null,
   "metadata": {},
   "outputs": [],
   "source": []
  },
  {
   "cell_type": "code",
   "execution_count": null,
   "metadata": {},
   "outputs": [],
   "source": [
    "KL_values = np.loadtxt(\"4_CA_DISTANCES/KL_OUTPUT/0_system_A_1_system_B/ALL_KL_CA.dat\")"
   ]
  },
  {
   "cell_type": "code",
   "execution_count": null,
   "metadata": {},
   "outputs": [],
   "source": [
    "KL_values = KL_values.reshape(len(KL_values),1)"
   ]
  },
  {
   "cell_type": "code",
   "execution_count": null,
   "metadata": {},
   "outputs": [],
   "source": [
    "atom_indices_KLs = np.concatenate((atom_number_pair_array,KL_values),axis=1)"
   ]
  },
  {
   "cell_type": "code",
   "execution_count": null,
   "metadata": {},
   "outputs": [],
   "source": [
    "print atom_indices_KLs"
   ]
  },
  {
   "cell_type": "markdown",
   "metadata": {},
   "source": [
    "### Sizes of KL values\n",
    "\n",
    "In order to set minimum limits of KL values in order to visualise, the below plot shows the KL for each distance in order to see where a lot of the values lie. \n",
    "\n",
    "Therefore we will use a lower cutoff od around 13 in order to only visualise the high KL distances. "
   ]
  },
  {
   "cell_type": "code",
   "execution_count": null,
   "metadata": {},
   "outputs": [],
   "source": [
    "plt.plot(KL_values)\n",
    "plt.xlabel(\"distance\")\n",
    "plt.ylabel(\"KL value\")\n",
    "print max(KL_values)\n",
    "print min(KL_values)"
   ]
  },
  {
   "cell_type": "code",
   "execution_count": null,
   "metadata": {},
   "outputs": [],
   "source": [
    "np.savetxt(\"4_CA_DISTANCES/KL_OUTPUT/0_system_A_1_system_B/atoms_indices_KLs.dat\",atom_indices_KLs, fmt='%d  %d  %0.10f')"
   ]
  },
  {
   "cell_type": "markdown",
   "metadata": {},
   "source": [
    "So now have a file 4_CA_DISTANCES/KL_OUTPUT/0_system_A_1_system_B with atom indices and KL\n",
    "\n",
    "Now just need to set up testdistance10..pml properly to load structure and input distances. "
   ]
  },
  {
   "cell_type": "markdown",
   "metadata": {},
   "source": [
    "### Visualising the output of the KL calculation \n",
    "\n"
   ]
  },
  {
   "cell_type": "markdown",
   "metadata": {},
   "source": []
  },
  {
   "cell_type": "markdown",
   "metadata": {},
   "source": [
    "---\n",
    "\n",
    "#### _TODO_\n",
    "\n",
    "_**Bin ranges** _\n",
    "\n",
    "_Usually calculating distributions for 10's or 100's of thousands of distances with this script._\n",
    "\n",
    "_Since KL between two sims requires the same bin range for a particular descriptor, need to ensure that for distance 1 (for example), all sims have same bin range. And same for distance 2....distance 200k._\n",
    "\n",
    "_Since some distances large, and some small, using the same bin range for **everything** is not a great idea._\n",
    "\n",
    "_Currently we just set a bin range, but this can be improved to check the binning for each distance._\n",
    "\n",
    "---\n",
    "\n",
    "#### Plan to improve binning: \n",
    "\n",
    "Run every system, and output: \n",
    "\n",
    "`distance_per_snapshot = CA_contacts[0]` is a distance per snapshot for all atom pairs \n",
    "\n",
    "and \n",
    "\n",
    "`indices_per_SS_SHORT = CA_contacts[1]` is 2 atom indices involved in atom pairs\n",
    "\n",
    "e.g. \n",
    "\n",
    "`pair_1_distance = CA_contacts[0][:,0]`\n",
    "\n",
    "`pair_1_atoms = CA_contacts[1][0]`\n",
    "\n",
    "\n",
    "Then once have `distance_per_snapshot` for all simulations, can load all together to get the min/max for each distance, over all the sims run.\n",
    "\n",
    "\n",
    "\n",
    "#### Min max\n",
    "\n",
    "Make lists of min / max for each distance and output to the file `2_CA_DISTANCES/1_SSB/1_UCB1478733/OUTPUT/min_max_array.dat`.\n",
    "\n",
    "After running first one - select bin ranges for each distance by taking a reasonable margin on either side. This means we can output the histograms for each (since we have to load everything to get the min max anyway)\n",
    "\n",
    "Then once run for each system, have the min and max for each distance, and check that initially selected bin ranges are ok. \n",
    "\n",
    "If not, repeat histogramming. \n"
   ]
  },
  {
   "cell_type": "code",
   "execution_count": null,
   "metadata": {},
   "outputs": [],
   "source": []
  }
 ],
 "metadata": {
  "kernelspec": {
   "display_name": "Python 2",
   "language": "python",
   "name": "python2"
  },
  "language_info": {
   "codemirror_mode": {
    "name": "ipython",
    "version": 2
   },
   "file_extension": ".py",
   "mimetype": "text/x-python",
   "name": "python",
   "nbconvert_exporter": "python",
   "pygments_lexer": "ipython2",
   "version": "2.7.14"
  }
 },
 "nbformat": 4,
 "nbformat_minor": 2
}
