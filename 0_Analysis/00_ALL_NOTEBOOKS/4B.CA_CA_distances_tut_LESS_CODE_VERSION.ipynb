{
 "cells": [
  {
   "cell_type": "markdown",
   "metadata": {},
   "source": [
    "*To run cells with code, `shift + enter`* \n",
    "\n",
    "*To restart the session, `Kernel -> Restart and clear output`*\n",
    "\n",
    "*To run all cells, `Cell -> Run all`*"
   ]
  },
  {
   "cell_type": "markdown",
   "metadata": {},
   "source": [
    "# C$\\alpha$ - C$\\alpha$ distance Kullback-Leibler (KL) divergence\n",
    "----\n",
    "\n",
    "----\n",
    "## Introduction \n",
    "\n",
    "-------\n"
   ]
  },
  {
   "cell_type": "markdown",
   "metadata": {},
   "source": [
    "\n",
    "\n",
    "### <span style=\"color:DarkRed\"> Some details on trajectory/topology input\n",
    "    \n",
    "\n",
    "\n",
    "-------\n",
    "\n",
    "#### Topology format\n",
    "\n",
    "For this tutorial, we will load the trajectory as a .dcd file, using a pdb as the topology. \n",
    "\n",
    "*Rename chain ID*\n",
    "\n",
    "If the system has multiple chains, the script will only compute distances *within* each chain if the chain IDs are different (e.g. Chain A, Chain B, Chain C):\n",
    "\n",
    "We need to rename all the chains with the same chain ID, which we can do with pymol. \n",
    "\n",
    "*Renumber residues*\n",
    "\n",
    "It is also useful to ensure the residues are all numbered differently. For example you might have: \n",
    "\n",
    "* Chain A: residues 1-100\n",
    "\n",
    "\n",
    "* Chain B: residues 1-100\n",
    "\n",
    "\n",
    "* Chain C: residues 1-100\n",
    "\n",
    "\n",
    "**Instead we want the labels to look like: **\n",
    "\n",
    "* Chain A: residues 1-300\n",
    "\n",
    "\n",
    "----\n",
    "\n",
    "To chain chain ID: \n",
    "\n",
    "**Script to do below steps:**   `Scripts/Alter_chain_id.pml`\n",
    "\n",
    "Open pymol and set retain_order and pdb_retain_ids: \n",
    "\n",
    "**`PyMOL>set retain_order, 1`**\n",
    "\n",
    "**`PyMOL>set pdb_retain_ids, 1`**\n",
    "\n",
    "then: \n",
    "\n",
    "**`PyMOL>alter all, chain='A'`**\n",
    "\n",
    "Then save a pdb. \n",
    "\n",
    "-----\n",
    "\n",
    "To renumber chain: \n",
    "\n",
    "Can use pymol script to [renumber](https://raw.githubusercontent.com/Pymol-Scripts/Pymol-script-repo/master/renumber.py) residues: `Scripts/renumber.py`\n",
    "\n",
    "Open pymol and run the script. Then:\n",
    "\n",
    "**`PyMOL>renumber chain A, 1`**\n",
    "\n",
    "`Renumber: range (1 to 200)`\n",
    "    \n",
    "\n"
   ]
  },
  {
   "cell_type": "markdown",
   "metadata": {},
   "source": [
    "---\n",
    "\n",
    "---\n",
    "\n",
    "### <span style=\"color:DarkRed\"> Input residues\n",
    "    \n",
    "---\n",
    "\n",
    "Usually start with input all residues and find overall largest KL differences. \n",
    "\n",
    "Can also select particular regions - so a particular pocket, interface, etc - and only calculate pairs of distances involving those resiudes. \n",
    "\n",
    "C$\\alpha$ distances are computed with mdtraj **[compute contacts](http://mdtraj.org/1.9.0/api/generated/mdtraj.compute_contacts.html)**:\n",
    "\n",
    ">Parameters:\t\n",
    "\n",
    ">traj : md.Trajectory\n",
    "\n",
    ">     An mdtraj trajectory. It must contain topology information.\n",
    "\n",
    ">    contacts : array-like, ndim=2 or ‘all’\n",
    "\n",
    ">     An array containing pairs of indices (0-indexed) of residues to compute the contacts between, or ‘all’. The string ‘all’ will select all pairs of residues separated by two or more residues (i.e. the i to i+1 and i to i+2 pairs will be excluded).\n",
    "\n",
    "\n",
    ">> the itertools library can be useful to generate the arrays of indices (construct two groups of indices with atom selection):\n",
    "\n",
    ">> `group_1 = [0, 1, 2]`\n",
    "\n",
    ">> `group_2 = [10, 11]`\n",
    "\n",
    ">> `pairs = list(itertools.product(group_1, group_2))`\n",
    "\n",
    ">> `print(pairs)`\n",
    "\n",
    ">> `[(0, 10), (0, 11), (1, 10), (1, 11), (2, 10), (2, 11)]`\n",
    "\n",
    ">> `md.compute_contacts(t, pairs)`\n",
    "\n"
   ]
  },
  {
   "cell_type": "markdown",
   "metadata": {},
   "source": [
    "# <span style=\"color:DarkRed\"> Overall workflow\n",
    "\n",
    "-----------\n",
    "\n",
    "To summarise the overall workflow:\n",
    "\n",
    "* 1: Run simulations. Process trajectory as detailed above.\n",
    "\n",
    "\n",
    "* 2: Calculate all CA - CA distances for 2 or more systems. Output files with minimum and maximum distances for each CA - CA.\n",
    "\n",
    "\n",
    "* 3: Determine overall min/max for each distance in order to set bin ranges for histograms.\n",
    "\n",
    "\n",
    "* 4: Compute distributions for each distance.\n",
    "\n",
    "\n",
    "* 5: Compute KL between the different systems. \n",
    "\n",
    "\n",
    "* 6: Plot the highest KL distances onto the structure in pymol, colour coded to show the range of KL. "
   ]
  },
  {
   "cell_type": "markdown",
   "metadata": {},
   "source": [
    "-------\n",
    "\n",
    "# <span style=\"color:teal\"> Step 1 of the workflow: </span>\n",
    "\n",
    "--------\n",
    "\n",
    "The folders for the simulation data are the same as those used for the previous analysis.\n",
    "\n",
    "We will use the same two systems as the dihedral KL: `0_system_A` and `1_system_B`. \n",
    "\n",
    "In each of these folders, the trajectory `short_traj_aligned.dcd` will be used, and loaded with the topology `first_frame.pdb`."
   ]
  },
  {
   "cell_type": "code",
   "execution_count": 1,
   "metadata": {},
   "outputs": [
    {
     "name": "stdout",
     "output_type": "stream",
     "text": [
      "Populating the interactive namespace from numpy and matplotlib\n"
     ]
    }
   ],
   "source": [
    "# coding: utf-8\n",
    "import numpy as np\n",
    "get_ipython().magic(u'pylab inline')"
   ]
  },
  {
   "cell_type": "markdown",
   "metadata": {},
   "source": [
    "-------\n",
    "\n",
    "# <span style=\"color:teal\"> Step 2 of the workflow: </span>\n",
    "\n",
    "--------\n",
    "\n",
    "First, we need to calculate all CA distances to determine the minimum and maximum values for each distance. \n",
    "\n",
    "For a protein of **285** amino acids, we will calculate **39,903** distances. Since these distances will vary considerably, we cannot use the same bin range for everything. \n",
    "\n",
    "However for the KL calculation, we need to have the same bin range for a particular distance for each system. \n",
    "\n",
    "So first, we calculate the bin ranges for each system. \n"
   ]
  },
  {
   "cell_type": "markdown",
   "metadata": {},
   "source": [
    "- **Input system**\n",
    "\n",
    "Select the system to run using `input_system`.\n",
    "\n",
    "`input_system` is a list at the start of the script `9A_CA_contact_bin_range.py`. \n",
    "\n",
    "It just contains the names of the folders for the different systems:\n",
    "\n",
    "`system_list = [\"0_system_A\",\"1_system_B\"]`\n",
    "\n",
    "Select using the index of the list (0 for the first entry in the list, 1 for the second).\n",
    "\n",
    "- **Number of bins **\n",
    "\n",
    "The number of bins will depend on the number of snapshots used. \n",
    "\n",
    "For a simulation of 1 $\\mu$s, usually we save around 200k snapshots. Around 300 bins is appropriate for this number of datapoints. \n",
    "\n",
    "In this example, we have 4000 snapshots and so 60 bins are used.\n",
    "\n",
    "### Run the script for the first system:\n",
    "\n",
    "Run as `$ python 19_CA_CA_distances.py *input_system*`\n",
    "\n",
    "To run from the notebook, execute the cell below with `shift + enter`:"
   ]
  },
  {
   "cell_type": "code",
   "execution_count": 2,
   "metadata": {},
   "outputs": [
    {
     "name": "stdout",
     "output_type": "stream",
     "text": [
      "All input files:  [['0_TRAJECTORIES/0_system_A/short_traj_aligned.dcd'], ['0_TRAJECTORIES/1_system_B/short_traj_aligned.dcd']]\n",
      "Trajectory input:  0_TRAJECTORIES/0_system_A/short_traj_aligned.dcd\n",
      "Topology input:  0_TRAJECTORIES/0_system_A/first_frame.pdb\n",
      "<mdtraj.Topology with 1 chains, 285 residues, 4676 atoms, 4717 bonds>\n",
      "<mdtraj.Trajectory with 4000 frames, 4676 atoms, 285 residues, and unitcells>\n",
      "\n",
      "Computing CA contacts...\n",
      "\n",
      "Saved atom pairs to 4_CA_DISTANCES/0_system_A/OUTPUT/ALL_atom_pairs.dat\n",
      "\n",
      "Saved min max values to 4_CA_DISTANCES/0_system_A/OUTPUT/min_max_rawdata.dat\n",
      "\n",
      "Saved atom indices to 4_CA_DISTANCES/0_system_A/OUTPUT/atom_pairs_ATOM_NUMBERS.dat\n"
     ]
    }
   ],
   "source": [
    "!python Scripts/9A_CA_contact_bin_range.py 0"
   ]
  },
  {
   "cell_type": "markdown",
   "metadata": {},
   "source": [
    "### Compute the same for the second system: "
   ]
  },
  {
   "cell_type": "code",
   "execution_count": 3,
   "metadata": {},
   "outputs": [
    {
     "name": "stdout",
     "output_type": "stream",
     "text": [
      "All input files:  [['0_TRAJECTORIES/0_system_A/short_traj_aligned.dcd'], ['0_TRAJECTORIES/1_system_B/short_traj_aligned.dcd']]\n",
      "Trajectory input:  0_TRAJECTORIES/1_system_B/short_traj_aligned.dcd\n",
      "Topology input:  0_TRAJECTORIES/1_system_B/first_frame.pdb\n",
      "<mdtraj.Topology with 1 chains, 285 residues, 4676 atoms, 4717 bonds>\n",
      "<mdtraj.Trajectory with 4000 frames, 4676 atoms, 285 residues, and unitcells>\n",
      "\n",
      "Computing CA contacts...\n",
      "\n",
      "Saved atom pairs to 4_CA_DISTANCES/1_system_B/OUTPUT/ALL_atom_pairs.dat\n",
      "\n",
      "Saved min max values to 4_CA_DISTANCES/1_system_B/OUTPUT/min_max_rawdata.dat\n",
      "\n",
      "Saved atom indices to 4_CA_DISTANCES/1_system_B/OUTPUT/atom_pairs_ATOM_NUMBERS.dat\n"
     ]
    }
   ],
   "source": [
    "!python Scripts/9A_CA_contact_bin_range.py 1"
   ]
  },
  {
   "cell_type": "markdown",
   "metadata": {},
   "source": [
    "-------\n",
    "\n",
    "# <span style=\"color:teal\"> Step 3 of the workflow: </span>\n",
    "\n",
    "--------\n",
    "\n",
    "### Overall min and max for each distance for both systems\n",
    "\n",
    "The script above calculated the minimum and maximum values for each C$\\alpha$ - C$\\alpha$ distance, for both systems. To find the overall max and min for both systems (to allow histograms for both to be binned with the same range) run the following script as:\n",
    "\n",
    "`$ python *script*  *System_A_output_file_location*  *System_B_output_file_location*`"
   ]
  },
  {
   "cell_type": "code",
   "execution_count": 4,
   "metadata": {},
   "outputs": [
    {
     "name": "stdout",
     "output_type": "stream",
     "text": [
      "Loading min max values from 4_CA_DISTANCES/0_system_A/OUTPUT and 4_CA_DISTANCES/1_system_B/OUTPUT\n",
      "\n",
      "Calculating overall min and max for each CA-CA distance... \n",
      "\n",
      "Saving overall min max to 4_CA_DISTANCES/global_min_max_array.dat\n"
     ]
    }
   ],
   "source": [
    "!python Scripts/9B_global_bin_range.py 4_CA_DISTANCES/0_system_A/OUTPUT 4_CA_DISTANCES/1_system_B/OUTPUT "
   ]
  },
  {
   "cell_type": "markdown",
   "metadata": {},
   "source": [
    "-------\n",
    "\n",
    "# <span style=\"color:teal\"> Step 4 of the workflow: </span>\n",
    "\n",
    "--------\n",
    "\n",
    "### Compute histograms\n",
    "\n",
    "Now that we have the bin range that we can use for all systems, we can run for each again and output a histogram for each distance: "
   ]
  },
  {
   "cell_type": "code",
   "execution_count": 5,
   "metadata": {},
   "outputs": [
    {
     "name": "stdout",
     "output_type": "stream",
     "text": [
      "Trajectory input:  0_TRAJECTORIES/0_system_A/short_traj_aligned.dcd\n",
      "Topology input:  0_TRAJECTORIES/0_system_A/first_frame.pdb\n",
      "\n",
      "Computing CA contacts...\n",
      "\n",
      "Loading min max values from 4_CA_DISTANCES/global_min_max_array.dat\n",
      "Min bin : [5. 8. 7. ... 2. 2. 2.]\n",
      "Max bin : [12. 16. 16. ... 12. 16. 12.]\n",
      "Distribution data saved to 4_CA_DISTANCES/0_system_A/OUTPUT/CA_dist\n"
     ]
    }
   ],
   "source": [
    "!python Scripts/9C_CA_contact_compute_histograms.py 0"
   ]
  },
  {
   "cell_type": "code",
   "execution_count": 6,
   "metadata": {},
   "outputs": [
    {
     "name": "stdout",
     "output_type": "stream",
     "text": [
      "Trajectory input:  0_TRAJECTORIES/1_system_B/short_traj_aligned.dcd\n",
      "Topology input:  0_TRAJECTORIES/1_system_B/first_frame.pdb\n",
      "\n",
      "Computing CA contacts...\n",
      "\n",
      "Loading min max values from 4_CA_DISTANCES/global_min_max_array.dat\n",
      "Min bin : [5. 8. 7. ... 2. 2. 2.]\n",
      "Max bin : [12. 16. 16. ... 12. 16. 12.]\n",
      "Distribution data saved to 4_CA_DISTANCES/1_system_B/OUTPUT/CA_dist\n"
     ]
    }
   ],
   "source": [
    "!python Scripts/9C_CA_contact_compute_histograms.py 1"
   ]
  },
  {
   "cell_type": "markdown",
   "metadata": {},
   "source": [
    "-------\n",
    "\n",
    "# <span style=\"color:teal\"> Step 5 of the workflow: </span>\n",
    "\n",
    "--------\n",
    "\n",
    "### Calculating KL between two systems \n",
    "\n",
    "Once we have run the script above for the two different systems, we can do the KL calculation. \n",
    "\n",
    "In the folders `4_CA_DISTANCES/0_system_A/OUTPUT/CA_dist` and `4_CA_DISTANCES/1_system_B/OUTPUT/CA_dist`  we have a distribution for every CA distance for each system. \n",
    "\n",
    "We should also have files `4_CA_DISTANCES/0_system_A/OUTPUT/ALL_atom_pairs.dat` and `4_CA_DISTANCES/1_system_B/OUTPUT/ALL_atom_pairs.dat` which have the atom indices for each system's output.\n",
    "\n",
    "#### Check that the output for each system has the same atom indices:\n",
    "\n",
    "`$ vimdiff 4_CA_DISTANCES/0_system_A/OUTPUT/ALL_atom_pairs.dat 4_CA_DISTANCES/1_system_B/OUTPUT/ALL_atom_pairs.dat`"
   ]
  },
  {
   "cell_type": "markdown",
   "metadata": {},
   "source": [
    "----------\n",
    "\n",
    "In the folder `Scripts`, there is a script `9D_CA_KL_compute.py`. \n",
    "\n",
    "Run this, with the filepath to each system, and number of distances as arguments."
   ]
  },
  {
   "cell_type": "markdown",
   "metadata": {},
   "source": [
    "Move to the directory with the output data:"
   ]
  },
  {
   "cell_type": "code",
   "execution_count": 7,
   "metadata": {},
   "outputs": [
    {
     "name": "stdout",
     "output_type": "stream",
     "text": [
      "/home/t702348/lisa/X_PDK1_tutorial/0_Analysis/4_CA_DISTANCES\n"
     ]
    }
   ],
   "source": [
    "cd 4_CA_DISTANCES/"
   ]
  },
  {
   "cell_type": "code",
   "execution_count": 8,
   "metadata": {},
   "outputs": [
    {
     "name": "stdout",
     "output_type": "stream",
     "text": [
      "Number of distances for this system :  39903\n"
     ]
    }
   ],
   "source": [
    "number_distances = np.loadtxt(\"ALL_atom_pairs.dat\")\n",
    "print (\"Number of distances for this system : \") , (len(number_distances))"
   ]
  },
  {
   "cell_type": "code",
   "execution_count": 9,
   "metadata": {},
   "outputs": [],
   "source": [
    "!python ../Scripts/9D_CA_KL_compute.py 0_system_A/OUTPUT/CA_dist 1_system_B/OUTPUT/CA_dist 39903"
   ]
  },
  {
   "cell_type": "markdown",
   "metadata": {},
   "source": [
    "### Make a file with atom indices and KL values for each distance: \n",
    "\n",
    "First check that all the atom pairs for each system are the same. Use vimdiff: \n",
    "\n",
    "`$ vimdiff 0_system_A/OUTPUT/ALL_atom_pairs.dat 1_system_B/OUTPUT/ALL_atom_pairs.dat`\n",
    "\n",
    "And check the files with the atom numbers are the same: \n",
    "\n",
    "`$ vimdiff 0_system_A/OUTPUT/atom_pairs_ATOM_NUMBERS.dat 1_system_B/OUTPUT/atom_pairs_ATOM_NUMBERS.dat`\n",
    "\n",
    "### As files for each system are the same, copy files to the folder 4_CA_DISTANCES:"
   ]
  },
  {
   "cell_type": "code",
   "execution_count": 10,
   "metadata": {},
   "outputs": [],
   "source": [
    "cp 0_system_A/OUTPUT/ALL_atom_pairs.dat ."
   ]
  },
  {
   "cell_type": "code",
   "execution_count": 11,
   "metadata": {},
   "outputs": [],
   "source": [
    "cp 0_system_A/OUTPUT/atom_pairs_ATOM_NUMBERS.dat ."
   ]
  },
  {
   "cell_type": "code",
   "execution_count": 12,
   "metadata": {},
   "outputs": [
    {
     "name": "stdout",
     "output_type": "stream",
     "text": [
      "[[2.00000000e+00 7.00000000e+01 3.01790398e-02]\r\n",
      " [2.00000000e+00 1.02000000e+02 2.23366364e-02]\r\n",
      " [2.00000000e+00 1.08000000e+02 4.78831837e-02]\r\n",
      " ...\r\n",
      " [4.60300000e+03 4.64500000e+03 3.71725465e-01]\r\n",
      " [4.60300000e+03 4.66400000e+03 6.75851239e-01]\r\n",
      " [4.61700000e+03 4.66400000e+03 4.20544798e-01]]\r\n",
      "[15.14658095]\r\n",
      "[0.00192983]\r\n"
     ]
    }
   ],
   "source": [
    "!python ../Scripts/9E.CA_collect_KL.py\n"
   ]
  },
  {
   "cell_type": "code",
   "execution_count": null,
   "metadata": {},
   "outputs": [],
   "source": [
    "#atom_number_pair_array = np.loadtxt(\"atom_pairs_ATOM_NUMBERS.dat\")\n",
    "#print atom_number_pair_array.shape"
   ]
  },
  {
   "cell_type": "code",
   "execution_count": null,
   "metadata": {},
   "outputs": [],
   "source": [
    "#KL_values = np.loadtxt(\"KL_OUTPUT/0_system_A_1_system_B/ALL_KL_CA.dat\")\n",
    "#print KL_values.shape"
   ]
  },
  {
   "cell_type": "markdown",
   "metadata": {},
   "source": [
    "### Sizes of KL values\n",
    "\n",
    "In order to set minimum limits of KL values in order to visualise, the below plot shows the KL for each distance in order to see where a lot of the values lie. \n",
    "\n",
    "Therefore we will use a lower cutoff od around 13 in order to only visualise the high KL distances. "
   ]
  },
  {
   "cell_type": "code",
   "execution_count": 13,
   "metadata": {},
   "outputs": [
    {
     "name": "stdout",
     "output_type": "stream",
     "text": [
      "15.1465809545\n",
      "0.0019298307\n"
     ]
    },
    {
     "data": {
      "image/png": "[encoded data removed]",
      "text/plain": [
       "<matplotlib.figure.Figure at 0x7f4778176890>"
      ]
     },
     "metadata": {},
     "output_type": "display_data"
    }
   ],
   "source": [
    "KLs = np.loadtxt(\"KL_OUTPUT/0A_1B_atoms_indices_KLs.dat\")\n",
    "plt.plot(KLs[:,2])\n",
    "plt.xlabel(\"distance\")\n",
    "plt.ylabel(\"KL value\")\n",
    "print max(KLs[:,2])\n",
    "print min(KLs[:,2])"
   ]
  },
  {
   "cell_type": "markdown",
   "metadata": {},
   "source": [
    "-------\n",
    "\n",
    "# <span style=\"color:teal\"> Step 6 of the workflow: </span>\n",
    "\n",
    "--------\n",
    "\n",
    "\n",
    "### Visualising the output of the KL calculation \n",
    "\n"
   ]
  },
  {
   "cell_type": "markdown",
   "metadata": {},
   "source": [
    "From the above cell we can see the range of KL values for each of the distances. We need to select a cutoff for a minimum value, since we computed 39,903 distances - it won't be possible to visualise them all! \n",
    "\n",
    "In this case, a minimum KL of 14 has been selected. \n",
    "\n",
    "Since only a shortened trajectory was used for the tutorial, the results are less useful as we don't have enough data for good distributions. Also it can be better to exclude terminal regions and only input atoms around the areas of interest (in this case that would be around the active site, allosteric site and between).\n",
    "\n",
    "Run the pymol script `12_load_distances_KL.pml` from the folder `4_CA_DISTANCES/KL_OUTPUT`.\n",
    "\n",
    "All distances with KL > 14 will be plotted, and coloured from white -> red with increasing KL. "
   ]
  },
  {
   "cell_type": "markdown",
   "metadata": {},
   "source": [
    "\n",
    "<img src=\"z_images/CA_contact.png\" width=\"500\" >"
   ]
  },
  {
   "cell_type": "code",
   "execution_count": 14,
   "metadata": {},
   "outputs": [
    {
     "name": "stdout",
     "output_type": "stream",
     "text": [
      "/home/t702348/lisa/X_PDK1_tutorial/0_Analysis/4_CA_DISTANCES/KL_OUTPUT\n"
     ]
    }
   ],
   "source": [
    "cd KL_OUTPUT/"
   ]
  },
  {
   "cell_type": "code",
   "execution_count": null,
   "metadata": {},
   "outputs": [],
   "source": [
    "!pymol ../../Scripts/12_load_distances_KL.pml"
   ]
  }
 ],
 "metadata": {
  "kernelspec": {
   "display_name": "Python 2",
   "language": "python",
   "name": "python2"
  },
  "language_info": {
   "codemirror_mode": {
    "name": "ipython",
    "version": 2
   },
   "file_extension": ".py",
   "mimetype": "text/x-python",
   "name": "python",
   "nbconvert_exporter": "python",
   "pygments_lexer": "ipython2",
   "version": "2.7.14"
  }
 },
 "nbformat": 4,
 "nbformat_minor": 2
}
