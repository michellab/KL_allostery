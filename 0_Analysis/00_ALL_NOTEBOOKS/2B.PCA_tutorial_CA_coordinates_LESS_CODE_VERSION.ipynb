{
 "cells": [
  {
   "cell_type": "markdown",
   "metadata": {},
   "source": [
    "*To run cells with code, `shift + enter`* \n",
    "\n",
    "*To restart the session, `Kernel -> Restart and clear output`*"
   ]
  },
  {
   "cell_type": "markdown",
   "metadata": {},
   "source": [
    "# PCA analysis\n",
    "----\n",
    "\n",
    "----\n",
    "## Introduction \n",
    "\n",
    "-------\n"
   ]
  },
  {
   "cell_type": "markdown",
   "metadata": {},
   "source": [
    "### <span style=\"color:DarkRed\"> Some details on trajectory/topology input\n",
    "\n",
    "-------\n",
    "\n",
    "### C$\\alpha$ coordinate PCA\n",
    "#### Simulation input\n",
    "\n",
    "We will input several different simulations into the same PCA, which will have been run with different ligands: \n",
    "\n",
    "<img src='z_images/PCA_input.png' width=\"400\">\n",
    "<br>\n",
    "\n",
    "The trajectories that we input into the PCA must have same topology, so must be processed first to remove all water, ligands, etc.\n",
    "\n",
    "It is also important to do an accurate alignment of all the frames for each trajectory, to the **same starting structure** if carrying out C$\\alpha$ coordinate PCA. Depending on the system, it may make sense to align everything, or only part of the structure. In this case, all C$\\alpha$ were used to align.\n",
    "\n",
    "In the `0_TRAJECTORIES` folder there is a file `first_frame.pdb` - which in each case is the same structure of the protein with ligands, ions and waters removed. Alignment for each trajectory can then be done with cpptraj (but is already done for the tutorial). There are some example scripts in the folder `/Scripts/Traj_processing_scripts`.\n",
    "\n",
    "For this tutorial, we will use every 5th snapshot of a 1$\\mu$s simulation (40,000 frames - original simulation 200,000 frames).\n",
    "\n",
    "Four simulations will be used: \n",
    "\n",
    "* 0_system_A (PDK1 with allosteric inhibitor 1F8 bound. PDB ID 3ORX.)\n",
    "\n",
    "\n",
    "* 1_system_B (PDK1 with allosteric activator 2A2 bound. PDB ID 3ORZ.)\n",
    "\n",
    "\n",
    "* 2_system_C (PDK1 with no allosteric ligand bound.)\n",
    "\n",
    "\n",
    "* 3_system_D (PDK1 with allosteric activator J30 bound. PDB ID 3OTU)\n"
   ]
  },
  {
   "cell_type": "markdown",
   "metadata": {},
   "source": [
    "### <span style=\"color:DarkRed\">Some background on PCA\n",
    "    \n",
    "From a set of data $\\begin{equation} X_t\\end{equation}$ which we obtain from the trajectory, we compute the covariance matrix:\n",
    "\n",
    "\\begin{equation}\n",
    "C=(X−μ)^T(X−μ)\n",
    "\\end{equation}\n",
    "\n",
    "and solve  the eigenvalue problem:\n",
    "\\begin{equation}\n",
    "Cr_i=σ_ir_i\n",
    "\\end{equation}\n",
    "\n",
    "$\\begin{equation} r_i \\end{equation}$ are the principal components and $\\begin{equation} σ_i\\end{equation}$ are their respective variances.\n",
    "\n",
    "The input data $\\begin{equation} X_t\\end{equation}$ can be something like C$\\alpha$ coordinates, or backbone or sidechain torsions. \n",
    "\n",
    "In order to compare different simuluations, we do the dimensionality reduction on all available trajectories of the system. In this case, we have 4 different simulations, and will input all into the PCA together. We can then compare the highest variance motions between the different systems. "
   ]
  },
  {
   "cell_type": "markdown",
   "metadata": {},
   "source": [
    "**Reduction of dimensionality**\n",
    "\n",
    "This therefore allows a large dimensional dataset (i.e. all C$\\alpha$ coordinates in x, y and z directions) to be reduced into a smaller number of dimensions, where the new set of dimensions should still account for a large amount of the variance. \n",
    "\n",
    "<img src='z_images/PCA_dimensions.png' width=\"400\" >\n",
    "\n",
    "\n",
    "The output of this is a set of principal components, with Principal Component 1 (PC1) having the highest variance, and subsequent PC's having decreasing variance. \n",
    "\n",
    "As a guideline, we usually calculate the first 10 principal components, and we can check how much of the variance these first 10 PCs account for. \n",
    "\n",
    "The following script selects a subset of residues (it excludes the terminal regions of the model protein) and carries out a C$\\alpha$ coordinate PCA. \n",
    "\n"
   ]
  },
  {
   "cell_type": "markdown",
   "metadata": {},
   "source": [
    "### <span style=\"color:DarkRed\">Output from the PCA\n",
    "    \n",
    "The idea is to also use the output from the PCA in calculations of MI (Mutual Infomrmation) or KL (Kullback-Leibler) Divergence, therefore we need to output the values of PC per snapshot for each system, and distributions of these values.\n",
    "\n",
    "The script will output several things: \n",
    "\n",
    "\n",
    "* Frames corresponding to the minimum and maximum values of PC1 and PC2 for each system.\n",
    "\n",
    "\n",
    "* Per atom contribution to PC1 and PC2.\n",
    "\n",
    "\n",
    "* Per snapshot value of PC1 and PC2 for each system.\n",
    "\n",
    "\n",
    "* Distribution of values of PC1 and PC2 for each system."
   ]
  },
  {
   "cell_type": "markdown",
   "metadata": {},
   "source": [
    "    \n",
    "| Folder name | Allosteric ligand |\n",
    "| :--- | :-: | \n",
    "| 0_system_A | Inhibitor 1F8 |\n",
    "| 1_system_B | Activator 2A2 |\n",
    "| 2_system_C | No ligand |\n",
    "| 3_system_D | Activator J30 |\n",
    "\n"
   ]
  },
  {
   "cell_type": "markdown",
   "metadata": {},
   "source": [
    "#### The following packages are required: "
   ]
  },
  {
   "cell_type": "code",
   "execution_count": 1,
   "metadata": {},
   "outputs": [
    {
     "name": "stderr",
     "output_type": "stream",
     "text": [
      "/home/model/MD-SOFTWARE/anaconda/lib/python2.7/site-packages/pyemma/__init__.py:91: UserWarning: You are not using the latest release of PyEMMA. Latest is 2.5.2, you have 2.4.\n",
      "  .format(latest=latest, current=current), category=UserWarning)\n"
     ]
    }
   ],
   "source": [
    "import pyemma\n",
    "import pyemma.coordinates as coor\n",
    "from pyemma.coordinates import pca\n",
    "import mdtraj as md\n",
    "from pyemma.coordinates import load\n",
    "from pyemma.coordinates import source\n",
    "import numpy as np\n",
    "import os\n",
    "import matplotlib.pyplot as plt"
   ]
  },
  {
   "cell_type": "markdown",
   "metadata": {},
   "source": [
    "#### The following cell willl run the PCA analysis. \n",
    "\n",
    "Atom selection can be changed by editing the script `Scripts/7.PCA_tutorial_CA_coordinates.py` and changing the variable \"atom_sel\". This takes a string for the atom selection, in the format accepted by [mdtraj](http://mdtraj.org/latest/atom_selection.html \"mdtraj Atom Selection\")."
   ]
  },
  {
   "cell_type": "markdown",
   "metadata": {},
   "source": [
    "<br><br>\n",
    "Run the below cell with `shift + enter` : "
   ]
  },
  {
   "cell_type": "code",
   "execution_count": 2,
   "metadata": {},
   "outputs": [
    {
     "name": "stdout",
     "output_type": "stream",
     "text": [
      "/home/model/MD-SOFTWARE/anaconda/lib/python2.7/site-packages/pyemma/__init__.py:91: UserWarning: You are not using the latest release of PyEMMA. Latest is 2.5.2, you have 2.4.\n",
      "  .format(latest=latest, current=current), category=UserWarning)\n",
      "<mdtraj.Topology with 1 chains, 285 residues, 4676 atoms, 4732 bonds>\n",
      "\n",
      "Input trajectory locations: \n",
      "['0_TRAJECTORIES/0_system_A/short_traj_aligned.dcd', '0_TRAJECTORIES/1_system_B/short_traj_aligned.dcd', '0_TRAJECTORIES/2_system_C/short_traj_aligned.dcd', '0_TRAJECTORIES/3_system_D/short_traj_aligned.dcd']\n",
      "\n",
      "Obtaining file info: 100% (4/4) [##################################] eta 00:01 |\n",
      "Data input to PCA as follows: \n",
      "trajectory length =  4000\n",
      "number of dimensions =  483\n",
      "number of trajectories = 4\n",
      "total number of frames =  16000\n",
      "\n",
      "Running PCA\n",
      "calc mean+cov: 100% (160/160) [####################################] eta 00:00 |\n",
      "Generating per system output\n",
      "getting output of PCA: 100% (160/160) [############################] eta 00:01 |\n",
      "\n",
      "Saving frames corresponding to the minimum and maximum values of PCA for each system to folder 2_PCA/CA_COOR_OUTPUT\n",
      "\n",
      "Calculating variance for calculated PCs\n",
      "Percentage variance PC1:  29.76155028286423\n",
      "Percentage variance PC2:  18.757485506498064\n",
      "Percentage variance PC3:  12.569383912739324\n",
      "Percentage variance PC4:  7.974453430386358\n",
      "Percentage variance PC5:  4.349213548014451\n",
      "Percentage variance PC6:  3.2160485944376713\n",
      "Percentage variance PC7:  1.8953716875868047\n",
      "Percentage variance PC8:  1.765794648623755\n",
      "Percentage variance PC9:  1.2829327817645972\n",
      "Percentage variance PC10:  1.2299231320123243\n",
      "Sum of variance for first 10 PCs:  82.80215752492758\n",
      "\n",
      "Calculating bin ranges to histogram PC1 and PC2.\n",
      "Bin range will be from -4 to 3 for PC1\n",
      "Bin range will be from -3 to 2 for PC2\n",
      "Number of populated bins: 25\n",
      "Number of zero bins: 35\n",
      "Amount added to empty bins: 2.85714285714e-08\n",
      "Number of populated bins: 44\n",
      "Number of zero bins: 16\n",
      "Amount added to empty bins: 6.25e-08\n",
      "Number of populated bins: 20\n",
      "Number of zero bins: 40\n",
      "Amount added to empty bins: 2.5e-08\n",
      "Number of populated bins: 48\n",
      "Number of zero bins: 12\n",
      "Amount added to empty bins: 8.33333333333e-08\n",
      "Number of populated bins: 31\n",
      "Number of zero bins: 29\n",
      "Amount added to empty bins:  3.44827586207e-08\n",
      "Number of populated bins: 30\n",
      "Number of zero bins: 30\n",
      "Amount added to empty bins:  3.33333333333e-08\n",
      "Number of populated bins: 24\n",
      "Number of zero bins: 36\n",
      "Amount added to empty bins:  2.77777777778e-08\n",
      "Number of populated bins: 25\n",
      "Number of zero bins: 35\n",
      "Amount added to empty bins:  2.85714285714e-08\n",
      "\n",
      "_________________________________________\n",
      "All output saved to 2_PCA/CA_COOR_OUTPUT.\n",
      "_________________________________________\n"
     ]
    }
   ],
   "source": [
    "!python Scripts/7.PCA_tutorial_CA_coordinates.py"
   ]
  },
  {
   "cell_type": "markdown",
   "metadata": {},
   "source": [
    "---\n",
    "\n",
    "#### Move to the output folder:"
   ]
  },
  {
   "cell_type": "code",
   "execution_count": 2,
   "metadata": {},
   "outputs": [
    {
     "name": "stdout",
     "output_type": "stream",
     "text": [
      "/home/t702348/lisa/X_PDK1_tutorial/0_Analysis/2_PCA/CA_COOR_OUTPUT\n"
     ]
    }
   ],
   "source": [
    "cd 2_PCA/CA_COOR_OUTPUT/"
   ]
  },
  {
   "cell_type": "markdown",
   "metadata": {},
   "source": [
    "### Loading the PCA atom contribution values into a pymol session\n",
    "---\n",
    "\n",
    "In the cell below or from a terminal window in the folder `2_PCA/CA_COOR_OUTPUT\n",
    "`, run the pymol script `../../Scripts/8_alter_B_factor.pml`\n",
    "\n",
    "This will launch a pymol session with many different structures:\n",
    "\n",
    "* Two structures with colour scale plot indicating the per atom comtribution to that Principal Component (PC) for PC1 and PC2.\n",
    "\n",
    "\n",
    "* For each system, the structures corresponding to the minimum and maximum values of PC1 and PC2. \n",
    "\n",
    "<br>\n",
    "\n",
    "<img src=\"z_images/PCA_colour_scale.png\" width=\"500\">\n"
   ]
  },
  {
   "cell_type": "code",
   "execution_count": null,
   "metadata": {},
   "outputs": [],
   "source": [
    "!pymol ../../Scripts/8_alter_B_factor.pml"
   ]
  },
  {
   "cell_type": "markdown",
   "metadata": {},
   "source": [
    "<img src=\"z_images/PCA_pymol.png\">"
   ]
  }
 ],
 "metadata": {
  "kernelspec": {
   "display_name": "Python 2",
   "language": "python",
   "name": "python2"
  },
  "language_info": {
   "codemirror_mode": {
    "name": "ipython",
    "version": 2
   },
   "file_extension": ".py",
   "mimetype": "text/x-python",
   "name": "python",
   "nbconvert_exporter": "python",
   "pygments_lexer": "ipython2",
   "version": "2.7.14"
  }
 },
 "nbformat": 4,
 "nbformat_minor": 1
}
